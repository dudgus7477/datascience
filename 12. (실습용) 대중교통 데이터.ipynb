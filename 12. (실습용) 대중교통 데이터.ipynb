{
  "cells": [
    {
      "cell_type": "markdown",
      "metadata": {
        "id": "view-in-github",
        "colab_type": "text"
      },
      "source": [
        "<a href=\"https://colab.research.google.com/github/dudgus7477/datascience/blob/main/12.%20(%EC%8B%A4%EC%8A%B5%EC%9A%A9)%20%EB%8C%80%EC%A4%91%EA%B5%90%ED%86%B5%20%EB%8D%B0%EC%9D%B4%ED%84%B0.ipynb\" target=\"_parent\"><img src=\"https://colab.research.google.com/assets/colab-badge.svg\" alt=\"Open In Colab\"/></a>"
      ]
    },
    {
      "cell_type": "markdown",
      "source": [
        "<img src='https://github.com/teacher-jiejie/allinone_AI/blob/images/87_%EB%A1%9C%EB%93%9C%EB%A7%B5.png?raw=true' width=700>"
      ],
      "metadata": {
        "id": "mKTfn7dyEBDZ"
      }
    },
    {
      "cell_type": "markdown",
      "source": [
        "##1. 프로젝트 목표 수립\n",
        "### 1) 목표 수립하기\n",
        "목표 : 10-12월 카드 이용 내역을 분석해 소비 패턴과 불필요한 지출 규모 파악하기  \n"
      ],
      "metadata": {
        "id": "SNHufhGO4hd6"
      }
    },
    {
      "cell_type": "markdown",
      "metadata": {
        "id": "UDpGnB7q84Pa"
      },
      "source": [
        "하위 목표 1 : 10-12월의 월별 지출액 파악하기\n",
        "\n",
        "<img src='https://github.com/teacher-jiejie/allinone_AI/blob/images/83_%ED%95%98%EC%9C%84%EB%AA%A9%ED%91%9C1.png?raw=true' width=300>"
      ]
    },
    {
      "cell_type": "markdown",
      "metadata": {
        "id": "oGaVvTH59CNE"
      },
      "source": [
        "하위 목표 2 : 10-12월의 월별 택시비와 배달음식 지출액 파악하기\n",
        "\n",
        "<img src='https://github.com/teacher-jiejie/allinone_AI/blob/images/84_%ED%95%98%EC%9C%84%EB%AA%A9%ED%91%9C2.png?raw=true' width=300>"
      ]
    },
    {
      "cell_type": "markdown",
      "metadata": {
        "id": "HJq4l9v99CPY"
      },
      "source": [
        "하위 목표 3 : 3개월간 지출액이 가장 높은 가맹점 10개 뽑기\n",
        "\n",
        "<img src='https://github.com/teacher-jiejie/allinone_AI/blob/images/84_%ED%95%98%EC%9C%84%EB%AA%A9%ED%91%9C3.png?raw=true' width=300>"
      ]
    },
    {
      "cell_type": "markdown",
      "source": [
        "### 2) 데이터 선정\n",
        "데이터 : 10-12월 카드 이용 내역 파일\n",
        "\n",
        "```\n",
        "# 목표수립과 데이터 선정은 순서를 바꿔서 진행할 수 있음.\n",
        "```\n",
        "✅데이터를 선정했는데, 미리 생각한 목표를 달성할 수 없는 경우도 있고, 데이터를 보고 분석하고 싶은 내용이 달라지는(프로젝트 목표가 달라지는) 경우도 있습니다.  \n",
        "✅유연하게 두 순서를 수정하면서 상황에 맞게 하는 것이 중요!!!\n",
        "\n",
        "\n",
        "\n",
        "> 데이터 수집 시 참고할 사이트  \n",
        "🌟 캐글 - 데이터 분석 대회 사이트  \n",
        "🌟 공공데이터포털 - 정부 및 공공기관이 보유한 데이터 중 개방한 것들  \n",
        "🌟 국가통계포털 - 대한민국의 공식 통계 데이터 제공\n",
        "\n",
        " ❗ 챗 gpt 활용도 가능!(대중교통관련 데이터를 얻고 싶은데 어느 사이트에 들어가면 얻을 수 있을까? 등등)  \n",
        " 자세하게 물어볼수록 얻고 싶은 데이터 쉽게 얻을 수 있음!  \n",
        " 하지만 신뢰성 검증은 무조건하기!!\n",
        "\n"
      ],
      "metadata": {
        "id": "3PIKCmKj45ug"
      }
    },
    {
      "cell_type": "markdown",
      "source": [
        "##2. 프로그램 구현\n",
        "알고리즘과 코드 작성"
      ],
      "metadata": {
        "id": "tML4_kjo5Zbd"
      }
    },
    {
      "cell_type": "markdown",
      "source": [
        "## 3. 결과 분석\n",
        "하위목표마다 결과를 분석하거나, 하위목표를 합쳐서 종합적으로 결과를 분석해도됩니다.  \n",
        "가설을 세우고 실제 통계치와 비교해도 좋고, 분석 결과가 나오게된 이유를 탐색하는 방법도 있습니다."
      ],
      "metadata": {
        "id": "9xCmfnDB5eMe"
      }
    },
    {
      "cell_type": "markdown",
      "source": [
        "\n",
        "\n",
        "---\n",
        "\n"
      ],
      "metadata": {
        "id": "g8pBrCup54xH"
      }
    },
    {
      "cell_type": "markdown",
      "metadata": {
        "id": "W_1NjPBt49HX"
      },
      "source": [
        "# 0. 들어가기 전에, 한글 폰트 설정해주기\n",
        "\n",
        "#### 코랩에서 한글 폰트 설정\n",
        "1) 한글 폰트 코드 실행\n",
        "\n",
        "```\n",
        "!sudo apt-get install -y fonts-nanum\n",
        "!sudo fc-cache -fv\n",
        "!rm ~/.cache/matplotlib -rf\n",
        "```\n",
        "\n",
        "2) 런타임 - 런타임 다시시작\n",
        "\n",
        "3) 글꼴 지정 명령어\n",
        "\n",
        "```\n",
        "plt.rc('font', family='NanumGothic')\n",
        "```\n",
        "\n"
      ]
    },
    {
      "cell_type": "code",
      "execution_count": 1,
      "metadata": {
        "id": "zUc6MMux5Dle"
      },
      "outputs": [],
      "source": [
        "!sudo apt-get install -y fonts-nanum\n",
        "!sudo fc-cache -fv\n",
        "!rm ~/.cache/matplotlib -rf"
      ]
    },
    {
      "cell_type": "markdown",
      "metadata": {
        "id": "xvlpmB5a1UNg"
      },
      "source": [
        "#1. 프로젝트 목표 수립\n",
        "\n",
        ">목표 : 버스 이용 현황 분석하기\n",
        "\n",
        "######하위목표1. 승차인원/하차인원이 가장 많은 노선은?\n",
        "\n",
        "######기타 하위목표. 이용률이 가장 높은 시간대는? ,출근시간대에 가장 이용률이 높은 정류장은? , 유무임승차 비율 분석 등"
      ]
    },
    {
      "cell_type": "markdown",
      "metadata": {
        "id": "Or6lYeeM2Yji"
      },
      "source": [
        "#####티머니 홈페이지에서 수도권 대중교통 데이터를 받을 수 있다.\n",
        "\n",
        "> https://www.t-money.co.kr/\n",
        "\n",
        "#####'이용안내-> 대중교통 통계자료-> 최근 월간 교통카드 통계자료 게시글'\n"
      ]
    },
    {
      "cell_type": "code",
      "execution_count": 2,
      "metadata": {
        "id": "O9PUKd526Ba-"
      },
      "outputs": [],
      "source": [
        "#csv 파일 파이썬으로 읽어오기\n",
        "import pandas as pd\n",
        "data = pd.read_csv('')\n",
        "data.head(10)"
      ]
    },
    {
      "cell_type": "markdown",
      "metadata": {
        "id": "6lF1_gt77C4a"
      },
      "source": [
        "#2. 프로그램 구현\n"
      ]
    },
    {
      "cell_type": "markdown",
      "metadata": {
        "id": "DXwZEh4R7rWp"
      },
      "source": [
        "##하위목표 1\n",
        "###승차인원과 하차인원이 가장 많은 정류장과 인원수는?\n"
      ]
    },
    {
      "cell_type": "code",
      "execution_count": 3,
      "metadata": {
        "id": "Scu8a7x6lObR"
      },
      "outputs": [],
      "source": [
        "#승차인원이 가장 많은 곳\n"
      ]
    },
    {
      "cell_type": "code",
      "source": [],
      "metadata": {
        "id": "IeaxKcPe8Oiu"
      },
      "execution_count": 3,
      "outputs": []
    },
    {
      "cell_type": "code",
      "execution_count": 4,
      "metadata": {
        "id": "WKWOwq0vA0SU"
      },
      "outputs": [],
      "source": [
        "#승차승객수 쉼표 공백으로 변환하기\n"
      ]
    },
    {
      "cell_type": "code",
      "source": [],
      "metadata": {
        "id": "-QOuvazpB2L_"
      },
      "execution_count": 4,
      "outputs": []
    },
    {
      "cell_type": "code",
      "source": [
        "#숫자로 변환하기\n"
      ],
      "metadata": {
        "id": "hHSGCAtiCTip"
      },
      "execution_count": 5,
      "outputs": []
    },
    {
      "cell_type": "code",
      "source": [],
      "metadata": {
        "id": "2s_xkI1hDEIf"
      },
      "execution_count": 5,
      "outputs": []
    },
    {
      "cell_type": "code",
      "source": [
        "#실습1. 하차인원이 가장 많은 곳 찾아내기\n"
      ],
      "metadata": {
        "id": "HlhszyPsDQxN"
      },
      "execution_count": null,
      "outputs": []
    },
    {
      "cell_type": "code",
      "execution_count": 6,
      "metadata": {
        "id": "1Q0-oACKXtfX"
      },
      "outputs": [],
      "source": [
        "#승차인원이 많은 top5 정류장 골라내보기\n",
        "#정거장 이름과 인원수 함께 나타내기\n",
        "top = [] #승차승객수\n",
        "name = [] #정류장명\n",
        "import matplotlib.pyplot as plt\n",
        "\n",
        "plt.figure(figsize=(10, 5))\n",
        "plt.rc('font', family='NanumGothic')\n",
        "plt.title('서울 대중교통 승차인원 TOP5 정류장')\n",
        "t =\n",
        "\n",
        "\n",
        "\n",
        "plt.bar(, , color = 'b', label = '단위(명)')\n",
        "plt.legend()\n",
        "plt.show()"
      ]
    },
    {
      "cell_type": "markdown",
      "metadata": {
        "id": "5MzG0SktmDcQ"
      },
      "source": [
        "####하위목표 2는 직접 만들어봅시다!"
      ]
    },
    {
      "cell_type": "code",
      "execution_count": null,
      "metadata": {
        "id": "clxgnDkdmCXT"
      },
      "outputs": [],
      "source": []
    }
  ],
  "metadata": {
    "colab": {
      "provenance": [],
      "authorship_tag": "ABX9TyMcbGQ1/9ZE4cR1Y/5mlo91",
      "include_colab_link": true
    },
    "kernelspec": {
      "display_name": "Python 3",
      "name": "python3"
    },
    "language_info": {
      "name": "python"
    }
  },
  "nbformat": 4,
  "nbformat_minor": 0
}