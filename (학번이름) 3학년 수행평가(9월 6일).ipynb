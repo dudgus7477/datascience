{
  "nbformat": 4,
  "nbformat_minor": 0,
  "metadata": {
    "colab": {
      "provenance": [],
      "authorship_tag": "ABX9TyOVNY1Ej4VXa24KMnf/qJ41",
      "include_colab_link": true
    },
    "kernelspec": {
      "name": "python3",
      "display_name": "Python 3"
    },
    "language_info": {
      "name": "python"
    }
  },
  "cells": [
    {
      "cell_type": "markdown",
      "metadata": {
        "id": "view-in-github",
        "colab_type": "text"
      },
      "source": [
        "<a href=\"https://colab.research.google.com/github/dudgus7477/datascience/blob/main/(%ED%95%99%EB%B2%88%EC%9D%B4%EB%A6%84)%203%ED%95%99%EB%85%84%20%EC%88%98%ED%96%89%ED%8F%89%EA%B0%80(9%EC%9B%94%206%EC%9D%BC).ipynb\" target=\"_parent\"><img src=\"https://colab.research.google.com/assets/colab-badge.svg\" alt=\"Open In Colab\"/></a>"
      ]
    },
    {
      "cell_type": "markdown",
      "source": [
        "##1. 출력하기\n",
        "> 오늘 날짜와 요일 출력하기\n",
        "\n",
        "출력예시 ) 2024년 9월 6일 금요일"
      ],
      "metadata": {
        "id": "sttv-a9vqbTh"
      }
    },
    {
      "cell_type": "code",
      "execution_count": null,
      "metadata": {
        "id": "HzYIJGyrqXFU"
      },
      "outputs": [],
      "source": [
        "#1번 코드를 작성하세요.\n"
      ]
    },
    {
      "cell_type": "markdown",
      "source": [
        "## 2. 입력하고 출력하기\n",
        "> 이름과 나이 입력하고 자동으로 자기소개해주는 프로그램\n",
        "\n",
        "- 입력예시)\n",
        "            이름을 입력해주세요 : mark\n",
        "            나이를 입력해주세요 : 20\n",
        "- 출력예시)\n",
        "            안녕? 나는 mark야! 20살이지~"
      ],
      "metadata": {
        "id": "gm_lctCyqe5p"
      }
    },
    {
      "cell_type": "code",
      "source": [
        "#2번 코드를 작성하세요."
      ],
      "metadata": {
        "id": "s0A-nbRMqhn9"
      },
      "execution_count": null,
      "outputs": []
    },
    {
      "cell_type": "markdown",
      "source": [
        "## 3. 계산하기\n",
        "> 제곱계산기 프로그램\n",
        "\n",
        "거듭제곱이란? 똑같은 수를 여러번 곱한 것이다.\n",
        "거듭제곱은 '곱하는 수' 오른쪽 위에 '곱한 횟수'를 숫자로 표기한다.\n",
        "곱하는 수는 '밑'이라 부르고, 곱한 횟수는 '지수'라고 부른다.\n",
        "\n",
        "![image.png](data:image/png;base64,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)\n",
        "\n",
        "- 입력예시)\n",
        "            밑은? 2\n",
        "            지수는? 3\n",
        "             \n",
        "- 출력예시)\n",
        "            2의 3제곱은 8입니다.\n",
        "          "
      ],
      "metadata": {
        "id": "BRTsZxj3qiHI"
      }
    },
    {
      "cell_type": "code",
      "source": [
        "#3번 코드를 작성하세요.\n"
      ],
      "metadata": {
        "id": "eXp6hR3Pqku3"
      },
      "execution_count": null,
      "outputs": []
    },
    {
      "cell_type": "markdown",
      "source": [
        "## 4. 선택 구조\n",
        "> 합격여부 판단하기\n",
        "3명의 학생의 점수를 입력받고, 90점이 넘으면 합격 90점미만이라면 불합격이라고 출력하는 프로그램\n",
        "\n",
        "- 입력예시)\n",
        "           첫 번째 학생의 점수는? 80\n",
        "           두 번째 학생의 점수는? 50\n",
        "           세 번째 학생의 점수는? 98\n",
        "\n",
        "- 출력예시)\n",
        "          불합격\n",
        "          불합격\n",
        "          합격          "
      ],
      "metadata": {
        "id": "xdrZl8-WqlV5"
      }
    },
    {
      "cell_type": "code",
      "source": [
        "#4번 코드를 작성하세요.\n"
      ],
      "metadata": {
        "id": "976-pvj3qpJp"
      },
      "execution_count": null,
      "outputs": []
    },
    {
      "cell_type": "markdown",
      "source": [
        "## 5. 반복 구조\n",
        "> 입력한 만큼 # 출력하기\n",
        "\n",
        "- 입력예시 : 3\n",
        "- 출력예시 : ###"
      ],
      "metadata": {
        "id": "CZDObKfkqpa1"
      }
    },
    {
      "cell_type": "code",
      "source": [
        "#5번 코드를 작성하세요.\n"
      ],
      "metadata": {
        "id": "Nc3M1KNLqujS"
      },
      "execution_count": null,
      "outputs": []
    },
    {
      "cell_type": "markdown",
      "source": [
        "## 6. 리스트\n",
        "> 체크리스트 확인하기\n",
        "\n",
        "오늘 해야할 일을 입력하고 체크리스트에 있다면 우선순위가 출력되는 프로그램\n",
        "\n",
        "- 입력예시) 파이썬공부\n",
        "- 출력예시) 1번째로 할일입니다."
      ],
      "metadata": {
        "id": "fEl7gVFGqu8N"
      }
    },
    {
      "cell_type": "code",
      "source": [
        "check = ['파이썬공부', '데과닝수행', '맛있는점심']\n",
        "#6번 코드를 작성하세요.\n"
      ],
      "metadata": {
        "id": "0FVoZCabqxH5"
      },
      "execution_count": null,
      "outputs": []
    },
    {
      "cell_type": "markdown",
      "source": [
        "## 7. 이차원 리스트\n",
        "> 올림픽 데이터 분석하기\n",
        "\n",
        "금메달보다 은메달 개수가 많은 나라를 출력하시오.\n",
        "\n",
        "리스트가 나타내는 것은 차례대로 나라 > 금메달 > 은메달 > 동메달 > 합계"
      ],
      "metadata": {
        "id": "K1vx9thfSpid"
      }
    },
    {
      "cell_type": "markdown",
      "source": [
        "<img src= 'https://github.com/teacher-jiejie/allinone_AI/blob/images/17_%EC%98%AC%EB%A6%BC%ED%94%BD.png?raw=true' width=500>"
      ],
      "metadata": {
        "id": "fVEWxbzYTWna"
      }
    },
    {
      "cell_type": "markdown",
      "source": [
        "```\n",
        "data =[\n",
        "       [1,'미국',46,37,38,121],\n",
        "       [2,'영국',27,23,17,67],\n",
        "       [3,'중국',26,18,26,70],\n",
        "       [4,'러시아',19,18,19,56],\n",
        "       [5,'독일',17,10,15,42],\n",
        "       [6,'일본',12,8,21,41],\n",
        "       [7,'프랑스',10,18,14,42],\n",
        "       [8,'대한민국',9,3,9,21]\n",
        "       ]\n",
        "```"
      ],
      "metadata": {
        "id": "ci6GxabHTTxS"
      }
    },
    {
      "cell_type": "markdown",
      "source": [
        "- 출력형태 ) 프랑스 금메달 : 10 은메달 : 18"
      ],
      "metadata": {
        "id": "JQWdxKxpTw9S"
      }
    },
    {
      "cell_type": "code",
      "source": [
        "data =[\n",
        "       [1,'미국',46,37,38,121],\n",
        "       [2,'영국',27,23,17,67],\n",
        "       [3,'중국',26,18,26,70],\n",
        "       [4,'러시아',19,18,19,56],\n",
        "       [5,'독일',17,10,15,42],\n",
        "       [6,'일본',12,8,21,41],\n",
        "       [7,'프랑스',10,18,14,42],\n",
        "       [8,'대한민국',9,3,9,21]\n",
        "       ]\n",
        "#7번 코드를 작성하세요.\n"
      ],
      "metadata": {
        "id": "IX65QYGSTNQe"
      },
      "execution_count": null,
      "outputs": []
    },
    {
      "cell_type": "markdown",
      "source": [
        "## 7. 딕셔너리\n",
        "> 가장 비싼 가격의 책 3권을 내림차순(가격 기준)으로 정렬된 형태로 출력하는 프로그램"
      ],
      "metadata": {
        "id": "EiPK4n5qqxZu"
      }
    },
    {
      "cell_type": "markdown",
      "source": [
        "book={'로미오와줄리엣':14200, '너에게들려주는단단한말':16200, '언젠가우리가같은별을바라본다면':10800, '이중하나는거짓말':14400, '영원한천국':17820, '세이노의가르침':6480}"
      ],
      "metadata": {
        "id": "K9rf4Ri73ccW"
      }
    },
    {
      "cell_type": "code",
      "source": [
        "book={'로미오와줄리엣':14200, '너에게들려주는단단한말':16200, '언젠가우리가같은별을바라본다면':10800, '이중하나는거짓말':14400, '영원한천국':17820, '세이노의가르침':6480}\n",
        "#8번 코드를 작성하세요.\n"
      ],
      "metadata": {
        "id": "BpSj9C1zqzdC"
      },
      "execution_count": null,
      "outputs": []
    }
  ]
}