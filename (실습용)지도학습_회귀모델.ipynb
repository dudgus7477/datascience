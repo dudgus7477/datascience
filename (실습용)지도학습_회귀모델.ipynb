{
  "nbformat": 4,
  "nbformat_minor": 0,
  "metadata": {
    "colab": {
      "provenance": [],
      "authorship_tag": "ABX9TyO/GU/36fs9Su3oIqZn1kfq",
      "include_colab_link": true
    },
    "kernelspec": {
      "name": "python3",
      "display_name": "Python 3"
    },
    "language_info": {
      "name": "python"
    }
  },
  "cells": [
    {
      "cell_type": "markdown",
      "metadata": {
        "id": "view-in-github",
        "colab_type": "text"
      },
      "source": [
        "<a href=\"https://colab.research.google.com/github/dudgus7477/datascience/blob/main/(%EC%8B%A4%EC%8A%B5%EC%9A%A9)%EC%A7%80%EB%8F%84%ED%95%99%EC%8A%B5_%ED%9A%8C%EA%B7%80%EB%AA%A8%EB%8D%B8.ipynb\" target=\"_parent\"><img src=\"https://colab.research.google.com/assets/colab-badge.svg\" alt=\"Open In Colab\"/></a>"
      ]
    },
    {
      "cell_type": "markdown",
      "source": [
        "#회귀모델\n",
        ">회귀분석이란?\n",
        "- 하나 이상의 독립변수들이 종속변수에 미치는 영향을 추정하는 통계 기법이다. \n",
        "###### 그 중 단순선형회귀모형은 하나의 x가 y에 미치는 영향을 추정하며 1차 함수 관계로 나타낼 수 있다. "
      ],
      "metadata": {
        "id": "Rflu0fkSXqdy"
      }
    },
    {
      "cell_type": "code",
      "source": [
        "#모의고사 성적으로 수능 점수 예측해보자!\n",
        "import numpy as np\n",
        "\n",
        "x = np.array([[74],[81],[94],[68],[64],[70],[83],[94],[71],[74]]) # 모의고사\n",
        "y = np.array([71,78,90,68,66,72,89,92,78,80]) #수능"
      ],
      "metadata": {
        "id": "sFC6P90uYeh8"
      },
      "execution_count": 1,
      "outputs": []
    },
    {
      "cell_type": "code",
      "source": [
        "# 선형회귀 모델이 주어진 데이터에 적절한 모델인지 그림으로 확인한다.\n"
      ],
      "metadata": {
        "id": "LjTjEtkmbDiS"
      },
      "execution_count": 2,
      "outputs": []
    },
    {
      "cell_type": "markdown",
      "source": [
        "#모델 만들기"
      ],
      "metadata": {
        "id": "TMXH1EuObxsC"
      }
    },
    {
      "cell_type": "code",
      "source": [
        "from sklearn.linear_model import LinearRegression\n",
        "lin_reg = LinearRegression(fit_intercept=True)"
      ],
      "metadata": {
        "id": "V768MdKFbziX"
      },
      "execution_count": null,
      "outputs": []
    },
    {
      "cell_type": "code",
      "source": [],
      "metadata": {
        "id": "z4c0B30DdV3N"
      },
      "execution_count": 2,
      "outputs": []
    },
    {
      "cell_type": "code",
      "source": [],
      "metadata": {
        "id": "3hQTC5ZGjcvz"
      },
      "execution_count": 2,
      "outputs": []
    },
    {
      "cell_type": "markdown",
      "source": [
        "> 만든 모델 : H(x) = 0.8246*x + 14.6615"
      ],
      "metadata": {
        "id": "PQt__Rqnj6N0"
      }
    },
    {
      "cell_type": "code",
      "source": [],
      "metadata": {
        "id": "by-MvsjNjx5R"
      },
      "execution_count": 2,
      "outputs": []
    },
    {
      "cell_type": "code",
      "source": [],
      "metadata": {
        "id": "SwMVpP8MkVrK"
      },
      "execution_count": 2,
      "outputs": []
    },
    {
      "cell_type": "markdown",
      "source": [
        "### 다중 선형회귀 모델\n",
        "> 수능 시험 이전에 모의고사를 여러번 치른다. 여러번의 모의고사 점수로 예측해보자!"
      ],
      "metadata": {
        "id": "ZL9XQ8VSmCiQ"
      }
    },
    {
      "cell_type": "code",
      "source": [
        "X = [[68,74,69],\n",
        "     [83,81,76],\n",
        "     [100,94,84],\n",
        "     [71,68,67],\n",
        "     [63,64,66],\n",
        "     [70,70,70],\n",
        "     [77,83,90],\n",
        "     [86,94,90],\n",
        "     [76,71,77],\n",
        "     [64,74,84]]\n",
        "Y = np.array([71,78,90,68,66,72,89,92,78,80])     "
      ],
      "metadata": {
        "id": "f-o1ovWvmKGh"
      },
      "execution_count": null,
      "outputs": []
    },
    {
      "cell_type": "code",
      "source": [],
      "metadata": {
        "id": "pcNMyvEemtCt"
      },
      "execution_count": 2,
      "outputs": []
    },
    {
      "cell_type": "code",
      "source": [],
      "metadata": {
        "id": "knqNFgpCm0dY"
      },
      "execution_count": 2,
      "outputs": []
    },
    {
      "cell_type": "code",
      "source": [],
      "metadata": {
        "id": "NDpigKEvnq-L"
      },
      "execution_count": 2,
      "outputs": []
    },
    {
      "cell_type": "markdown",
      "source": [
        "#실습하기1\n",
        "> 기온에 따른 아이스크림 판매량 예측하기"
      ],
      "metadata": {
        "id": "51_nOwhdJWG0"
      }
    },
    {
      "cell_type": "code",
      "source": [
        "    "
      ],
      "metadata": {
        "id": "nsKUtepxJaY7"
      },
      "execution_count": null,
      "outputs": []
    },
    {
      "cell_type": "code",
      "source": [],
      "metadata": {
        "id": "zwG-AK-2NRw4"
      },
      "execution_count": null,
      "outputs": []
    },
    {
      "cell_type": "code",
      "source": [],
      "metadata": {
        "id": "nFL4YMqFNYgN"
      },
      "execution_count": 2,
      "outputs": []
    },
    {
      "cell_type": "code",
      "source": [],
      "metadata": {
        "id": "I1sajCc9NuAK"
      },
      "execution_count": 2,
      "outputs": []
    },
    {
      "cell_type": "code",
      "source": [],
      "metadata": {
        "id": "TKG28T8pN8ky"
      },
      "execution_count": 2,
      "outputs": []
    }
  ]
}