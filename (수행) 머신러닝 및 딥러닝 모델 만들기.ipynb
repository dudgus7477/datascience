{
  "nbformat": 4,
  "nbformat_minor": 0,
  "metadata": {
    "colab": {
      "provenance": [],
      "authorship_tag": "ABX9TyPgr7TKAPN2C3huLx/6MEZN",
      "include_colab_link": true
    },
    "kernelspec": {
      "name": "python3",
      "display_name": "Python 3"
    },
    "language_info": {
      "name": "python"
    }
  },
  "cells": [
    {
      "cell_type": "markdown",
      "metadata": {
        "id": "view-in-github",
        "colab_type": "text"
      },
      "source": [
        "<a href=\"https://colab.research.google.com/github/dudgus7477/datascience/blob/main/(%EC%88%98%ED%96%89)%20%EB%A8%B8%EC%8B%A0%EB%9F%AC%EB%8B%9D%20%EB%B0%8F%20%EB%94%A5%EB%9F%AC%EB%8B%9D%20%EB%AA%A8%EB%8D%B8%20%EB%A7%8C%EB%93%A4%EA%B8%B0.ipynb\" target=\"_parent\"><img src=\"https://colab.research.google.com/assets/colab-badge.svg\" alt=\"Open In Colab\"/></a>"
      ]
    },
    {
      "cell_type": "markdown",
      "source": [
        "#1. 데이터 준비하기\n",
        "- https://drive.google.com/drive/folders/1aoaVTVEw-bjwTdRPmjtHlg8oJJtkjii5?usp=sharing\n",
        "- 주어진 데이터 말고 자신이 준비한 데이터도 가능"
      ],
      "metadata": {
        "id": "JPvC_r9gQlWp"
      }
    },
    {
      "cell_type": "markdown",
      "source": [
        "### **준비한 데이터로 만들 수 있는 모델 정의하기**\n",
        "####- 나는 데이터 분석을 통해 [  ] 모델을 만들고, [  ] 문제를 해결하려 한다.\n",
        "\n",
        "\n",
        "\n"
      ],
      "metadata": {
        "id": "ajBMX1eeI-Ga"
      }
    },
    {
      "cell_type": "code",
      "execution_count": null,
      "metadata": {
        "id": "QPgIl8_JP1DP"
      },
      "outputs": [],
      "source": [
        "#필요한 라이브러리 작성\n"
      ]
    },
    {
      "cell_type": "code",
      "source": [
        "#데이터 불러들이기\n"
      ],
      "metadata": {
        "id": "uTKv6TLAQZxR"
      },
      "execution_count": null,
      "outputs": []
    },
    {
      "cell_type": "code",
      "source": [
        "#결측치 없는지 확인하고 필요한 데이터 전처리 과정 작성\n"
      ],
      "metadata": {
        "id": "IpUVqL3H_Kw1"
      },
      "execution_count": null,
      "outputs": []
    },
    {
      "cell_type": "markdown",
      "source": [
        "#2. 모델 설계하기\n",
        "- 내가 선택한 머신러닝 및 딥러닝 알고리즘에 대해 설명하고 관련 코드 작성"
      ],
      "metadata": {
        "id": "ruN8KMIvAmsH"
      }
    },
    {
      "cell_type": "markdown",
      "source": [
        "### **선택한 머신러닝 모델 소개하기**\n",
        "#### - 알고리즘 이름 :\n",
        "#### - 정의 및 특징 :\n",
        "#### - 선택한 이유"
      ],
      "metadata": {
        "id": "dgQZU2eNJmJF"
      }
    },
    {
      "cell_type": "code",
      "source": [
        "#feature(속성) 선정하기 위해 시각화하기 - 그래프 종류 2개이상"
      ],
      "metadata": {
        "id": "AXeOBZaZKdjE"
      },
      "execution_count": null,
      "outputs": []
    },
    {
      "cell_type": "code",
      "source": [],
      "metadata": {
        "id": "XjjnuKvPKvp8"
      },
      "execution_count": null,
      "outputs": []
    },
    {
      "cell_type": "code",
      "source": [
        "# feature(속성)과 lable(레이블) X, Y로 나타내기"
      ],
      "metadata": {
        "id": "v4jSezKw8kHu"
      },
      "execution_count": null,
      "outputs": []
    },
    {
      "cell_type": "code",
      "source": [
        "# 모델 훈련\n"
      ],
      "metadata": {
        "id": "tcLdd9nKBpDJ"
      },
      "execution_count": null,
      "outputs": []
    },
    {
      "cell_type": "markdown",
      "source": [
        "#3. 모델 평가 및 검증하기\n",
        "- 새로운 값으로 예측하였을 때 잘 예측하는지 확인"
      ],
      "metadata": {
        "id": "21NSHhJ_KyX7"
      }
    },
    {
      "cell_type": "code",
      "source": [
        "#정확도 나타내기\n"
      ],
      "metadata": {
        "id": "IXrwORS6K-lm"
      },
      "execution_count": null,
      "outputs": []
    },
    {
      "cell_type": "code",
      "source": [
        "#새로운 값으로 예측\n"
      ],
      "metadata": {
        "id": "8h8IE49CLAd_"
      },
      "execution_count": null,
      "outputs": []
    },
    {
      "cell_type": "markdown",
      "source": [
        "#4. 결론\n",
        "#### - 만든 모델의 활용방안 제시\n",
        "#### - 느낀점"
      ],
      "metadata": {
        "id": "D0q3DTB3LXOA"
      }
    }
  ]
}