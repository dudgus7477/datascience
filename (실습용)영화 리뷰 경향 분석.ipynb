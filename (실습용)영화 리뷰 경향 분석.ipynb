{
  "nbformat": 4,
  "nbformat_minor": 0,
  "metadata": {
    "colab": {
      "provenance": [],
      "authorship_tag": "ABX9TyMpP096uDJ91u77NI5Vl2Io",
      "include_colab_link": true
    },
    "kernelspec": {
      "name": "python3",
      "display_name": "Python 3"
    },
    "language_info": {
      "name": "python"
    }
  },
  "cells": [
    {
      "cell_type": "markdown",
      "metadata": {
        "id": "view-in-github",
        "colab_type": "text"
      },
      "source": [
        "<a href=\"https://colab.research.google.com/github/dudgus7477/datascience/blob/main/(%EC%8B%A4%EC%8A%B5%EC%9A%A9)%EC%98%81%ED%99%94%20%EB%A6%AC%EB%B7%B0%20%EA%B2%BD%ED%96%A5%20%EB%B6%84%EC%84%9D.ipynb\" target=\"_parent\"><img src=\"https://colab.research.google.com/assets/colab-badge.svg\" alt=\"Open In Colab\"/></a>"
      ]
    },
    {
      "cell_type": "markdown",
      "source": [
        "# 네이버 영화 리뷰 경향 분석"
      ],
      "metadata": {
        "id": "aQpipNCeeTHC"
      }
    },
    {
      "cell_type": "markdown",
      "source": [
        "#1. 필요한 라이브러리 설치"
      ],
      "metadata": {
        "id": "I0coupOee9yP"
      }
    },
    {
      "cell_type": "code",
      "execution_count": null,
      "metadata": {
        "id": "jail2vDteFxe"
      },
      "outputs": [],
      "source": [
        "# Colab에 Mecab 설치\n",
        "!pip install konlpy\n",
        "!pip install mecab-python\n",
        "!bash <(curl -s https://raw.githubusercontent.com/konlpy/konlpy/master/scripts/mecab.sh)"
      ]
    },
    {
      "cell_type": "code",
      "source": [
        "!pip install konlpy\n",
        "import re\n",
        "import pandas as pd\n",
        "import numpy as np\n",
        "import matplotlib.pyplot as plt\n",
        "import urllib.request\n",
        "from collections import Counter\n",
        "from konlpy.tag import Mecab\n",
        "from sklearn.model_selection import train_test_split"
      ],
      "metadata": {
        "id": "vwyj70mFfCPD"
      },
      "execution_count": null,
      "outputs": []
    },
    {
      "cell_type": "markdown",
      "source": [
        "#2. 데이터 로드하기"
      ],
      "metadata": {
        "id": "CYQQrUdkfl8S"
      }
    },
    {
      "cell_type": "code",
      "source": [
        "df = pd.read_table('./ratings_test.txt')\n",
        "df.head()"
      ],
      "metadata": {
        "id": "gBgFq5FFfpv8"
      },
      "execution_count": null,
      "outputs": []
    },
    {
      "cell_type": "code",
      "source": [
        "#전체 리뷰 개수 구하기\n"
      ],
      "metadata": {
        "id": "btShiQemgJfm"
      },
      "execution_count": null,
      "outputs": []
    },
    {
      "cell_type": "markdown",
      "source": [
        "#3. 데이터 전처리"
      ],
      "metadata": {
        "id": "E4A42EZbgTJH"
      }
    },
    {
      "cell_type": "code",
      "source": [
        "#한글 공백 제외하고 제거\n"
      ],
      "metadata": {
        "id": "1QNjv33YgfwO"
      },
      "execution_count": null,
      "outputs": []
    },
    {
      "cell_type": "code",
      "source": [
        "#중복 처리"
      ],
      "metadata": {
        "id": "hIaJi-FJgu-6"
      },
      "execution_count": null,
      "outputs": []
    },
    {
      "cell_type": "code",
      "source": [
        "#널값 처리"
      ],
      "metadata": {
        "id": "65VOYDoHg8Cl"
      },
      "execution_count": null,
      "outputs": []
    },
    {
      "cell_type": "code",
      "source": [
        "#레이블 분포 확인"
      ],
      "metadata": {
        "id": "LIuX5ti4hoIA"
      },
      "execution_count": null,
      "outputs": []
    },
    {
      "cell_type": "markdown",
      "source": [
        "#4. 형태소로 토큰화"
      ],
      "metadata": {
        "id": "JSLeZETmhu6U"
      }
    },
    {
      "cell_type": "code",
      "source": [
        "mecab = Mecab()"
      ],
      "metadata": {
        "id": "WKBWYuONhtun"
      },
      "execution_count": null,
      "outputs": []
    },
    {
      "cell_type": "code",
      "source": [
        "# 불용어 제거 처리하기"
      ],
      "metadata": {
        "id": "iLUAJPWuibUo"
      },
      "execution_count": null,
      "outputs": []
    },
    {
      "cell_type": "markdown",
      "source": [
        "#5. 리뷰 경향 분석"
      ],
      "metadata": {
        "id": "fgfJp46pijs5"
      }
    },
    {
      "cell_type": "code",
      "source": [
        "#긍정,부정 단어모음 만들기\n",
        "negative_words = np.hstack(df[df.label == 0]['tokenized'].values)\n",
        "positive_words = np.hstack(df[df.label == 1]['tokenized'].values)"
      ],
      "metadata": {
        "id": "2YFoyuRBiq_Y"
      },
      "execution_count": null,
      "outputs": []
    },
    {
      "cell_type": "code",
      "source": [
        "#긍정 단어 빈도수랑 같이 출력"
      ],
      "metadata": {
        "id": "GeyWdq2ait4q"
      },
      "execution_count": null,
      "outputs": []
    },
    {
      "cell_type": "code",
      "source": [
        "#부정 단어 빈도수랑 같이 출력"
      ],
      "metadata": {
        "id": "VuDNc-Lyiv4x"
      },
      "execution_count": null,
      "outputs": []
    },
    {
      "cell_type": "code",
      "source": [
        "#그래프 그리기(긍정)\n",
        "\n",
        "#그래프 그리기(부정)\n",
        "\n",
        "\n"
      ],
      "metadata": {
        "id": "jjB3Pc-U0DW9"
      },
      "execution_count": null,
      "outputs": []
    }
  ]
}