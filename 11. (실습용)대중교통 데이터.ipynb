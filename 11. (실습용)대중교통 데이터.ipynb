{
  "cells": [
    {
      "cell_type": "markdown",
      "metadata": {
        "id": "view-in-github",
        "colab_type": "text"
      },
      "source": [
        "<a href=\"https://colab.research.google.com/github/dudgus7477/datascience/blob/main/11.%20(%EC%8B%A4%EC%8A%B5%EC%9A%A9)%EB%8C%80%EC%A4%91%EA%B5%90%ED%86%B5%20%EB%8D%B0%EC%9D%B4%ED%84%B0.ipynb\" target=\"_parent\"><img src=\"https://colab.research.google.com/assets/colab-badge.svg\" alt=\"Open In Colab\"/></a>"
      ]
    },
    {
      "cell_type": "markdown",
      "metadata": {
        "id": "W_1NjPBt49HX"
      },
      "source": [
        "# 0. 들어가기 전에, 한글 폰트 설정해주기\n",
        "\n",
        "#### 코랩에서 한글 폰트 설정\n",
        "1) 한글 폰트 코드 실행\n",
        "\n",
        "```\n",
        "!sudo apt-get install -y fonts-nanum\n",
        "!sudo fc-cache -fv\n",
        "!rm ~/.cache/matplotlib -rf\n",
        "```\n",
        "\n",
        "2) 런타임 - 런타임 다시시작\n",
        "\n",
        "3) 글꼴 지정 명령어\n",
        "\n",
        "```\n",
        "plt.rc('font', family='NanumGothic')\n",
        "```\n",
        "\n"
      ]
    },
    {
      "cell_type": "code",
      "execution_count": null,
      "metadata": {
        "id": "zUc6MMux5Dle"
      },
      "outputs": [],
      "source": []
    },
    {
      "cell_type": "markdown",
      "metadata": {
        "id": "xvlpmB5a1UNg"
      },
      "source": [
        "#1. 프로젝트 목표 수립\n",
        "\n",
        ">목표 : 버스 이용 현황 분석하기\n",
        "\n",
        "######하위목표1. 승차인원/하차인원이 가장 많은 노선은?\n",
        "\n",
        "######기타 하위목표. 이용률이 가장 높은 시간대는? ,출근시간대에 가장 이용률이 높은 정류장은? , 유무임승차 비율 분석 등"
      ]
    },
    {
      "cell_type": "markdown",
      "metadata": {
        "id": "Or6lYeeM2Yji"
      },
      "source": [
        "#####티머니 홈페이지에서 수도권 대중교통 데이터를 받을 수 있다.\n",
        "\n",
        "> https://www.t-money.co.kr/\n",
        "\n",
        "#####'이용안내-> 대중교통 통계자료-> 최근 월간 교통카드 통계자료 게시글'\n"
      ]
    },
    {
      "cell_type": "code",
      "execution_count": 2,
      "metadata": {
        "id": "O9PUKd526Ba-"
      },
      "outputs": [],
      "source": [
        "#csv 파일 파이썬으로 읽어오기\n",
        "import csv\n",
        "\n",
        "f = open(' ', encoding='cp949')\n",
        "data = csv.reader(f)\n",
        "next(data)\n",
        "data = list(data)"
      ]
    },
    {
      "cell_type": "markdown",
      "metadata": {
        "id": "6lF1_gt77C4a"
      },
      "source": [
        "#2. 데이터 다뤄보기\n"
      ]
    },
    {
      "cell_type": "code",
      "execution_count": 3,
      "metadata": {
        "id": "CqBQRVan6yTi"
      },
      "outputs": [],
      "source": [
        "#버스 데이터 모두 출력하기기\n"
      ]
    },
    {
      "cell_type": "code",
      "source": [
        "#데이터 총 개수\n"
      ],
      "metadata": {
        "id": "jXKlKaXYpF5H"
      },
      "execution_count": 4,
      "outputs": []
    },
    {
      "cell_type": "markdown",
      "metadata": {
        "id": "DXwZEh4R7rWp"
      },
      "source": [
        "##하위목표 1\n",
        "###승차인원과 하차인원이 가장 많은 정류장과 노선은?\n"
      ]
    },
    {
      "cell_type": "code",
      "source": [],
      "metadata": {
        "id": "Scu8a7x6lObR"
      },
      "execution_count": 4,
      "outputs": []
    },
    {
      "cell_type": "code",
      "execution_count": 5,
      "metadata": {
        "id": "WKWOwq0vA0SU"
      },
      "outputs": [],
      "source": [
        "#승차인원이 가장 많은 곳\n"
      ]
    },
    {
      "cell_type": "code",
      "source": [
        "#하차인원이 가장 많은 곳\n"
      ],
      "metadata": {
        "id": "JsnrqsBuDK0s"
      },
      "execution_count": 6,
      "outputs": []
    },
    {
      "cell_type": "code",
      "source": [
        "#승차인원이 많은 top5 정류장 골라내보기\n",
        "#정거장 이름과 인원수 함께 나타내기\n"
      ],
      "metadata": {
        "id": "1Q0-oACKXtfX"
      },
      "execution_count": 7,
      "outputs": []
    },
    {
      "cell_type": "code",
      "source": [
        "#top5 정류장 이름(x축), 인원수(y축) 막대그래프로 그려보기\n",
        "\n"
      ],
      "metadata": {
        "id": "5Et6XzbQLnk8"
      },
      "execution_count": 8,
      "outputs": []
    },
    {
      "cell_type": "markdown",
      "source": [
        "####하위목표 2는 직접 만들어봅시다!"
      ],
      "metadata": {
        "id": "5MzG0SktmDcQ"
      }
    },
    {
      "cell_type": "code",
      "source": [],
      "metadata": {
        "id": "clxgnDkdmCXT"
      },
      "execution_count": null,
      "outputs": []
    }
  ],
  "metadata": {
    "colab": {
      "provenance": [],
      "authorship_tag": "ABX9TyNRkQVvQlhHVQ/7kyVnY7Z2",
      "include_colab_link": true
    },
    "kernelspec": {
      "display_name": "Python 3",
      "name": "python3"
    },
    "language_info": {
      "name": "python"
    }
  },
  "nbformat": 4,
  "nbformat_minor": 0
}