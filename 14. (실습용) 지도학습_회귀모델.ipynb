{
  "nbformat": 4,
  "nbformat_minor": 0,
  "metadata": {
    "colab": {
      "provenance": [],
      "authorship_tag": "ABX9TyPyVHw7PjkLJi7xkwhvJmg7",
      "include_colab_link": true
    },
    "kernelspec": {
      "name": "python3",
      "display_name": "Python 3"
    },
    "language_info": {
      "name": "python"
    }
  },
  "cells": [
    {
      "cell_type": "markdown",
      "metadata": {
        "id": "view-in-github",
        "colab_type": "text"
      },
      "source": [
        "<a href=\"https://colab.research.google.com/github/dudgus7477/datascience/blob/main/14.%20(%EC%8B%A4%EC%8A%B5%EC%9A%A9)%20%EC%A7%80%EB%8F%84%ED%95%99%EC%8A%B5_%ED%9A%8C%EA%B7%80%EB%AA%A8%EB%8D%B8.ipynb\" target=\"_parent\"><img src=\"https://colab.research.google.com/assets/colab-badge.svg\" alt=\"Open In Colab\"/></a>"
      ]
    },
    {
      "cell_type": "markdown",
      "source": [
        "#회귀모델\n",
        ">회귀분석이란?\n",
        "- 하나 이상의 독립변수들이 종속변수에 미치는 영향을 추정하는 통계 기법이다.\n",
        "###### 그 중 단순선형회귀모형은 하나의 x가 y에 미치는 영향을 추정하며 1차 함수 관계로 나타낼 수 있다.\n",
        "##### y = Wx+b의 식으로 표현"
      ],
      "metadata": {
        "id": "Rflu0fkSXqdy"
      }
    },
    {
      "cell_type": "code",
      "source": [
        "#모의고사 성적으로 수능 점수 예측해보자!\n",
        "import numpy as np\n",
        "\n",
        "x = np.array([[74],[81],[94],[68],[64],[70],[83],[94],[71],[74]]) # 모의고사\n",
        "y = np.array([71,78,90,68,66,72,89,92,78,80]) #수능"
      ],
      "metadata": {
        "id": "sFC6P90uYeh8"
      },
      "execution_count": null,
      "outputs": []
    },
    {
      "cell_type": "code",
      "source": [
        "# 선형회귀 모델이 주어진 데이터에 적절한 모델인지 그림으로 확인한다.\n",
        "import matplotlib.pyplot as plt\n",
        "\n"
      ],
      "metadata": {
        "id": "LjTjEtkmbDiS"
      },
      "execution_count": 1,
      "outputs": []
    },
    {
      "cell_type": "markdown",
      "source": [
        "#모델 만들기"
      ],
      "metadata": {
        "id": "TMXH1EuObxsC"
      }
    },
    {
      "cell_type": "code",
      "source": [],
      "metadata": {
        "id": "V768MdKFbziX"
      },
      "execution_count": 1,
      "outputs": []
    },
    {
      "cell_type": "code",
      "source": [],
      "metadata": {
        "id": "z4c0B30DdV3N"
      },
      "execution_count": 1,
      "outputs": []
    },
    {
      "cell_type": "code",
      "source": [],
      "metadata": {
        "id": "3hQTC5ZGjcvz"
      },
      "execution_count": 1,
      "outputs": []
    },
    {
      "cell_type": "markdown",
      "source": [
        "> 만든 모델 : H(x) ="
      ],
      "metadata": {
        "id": "PQt__Rqnj6N0"
      }
    },
    {
      "cell_type": "code",
      "source": [
        "\n",
        "plt.xlabel(\"exam\"), plt.ylabel(\"final\")\n",
        "plt.legend()\n",
        "plt.show()"
      ],
      "metadata": {
        "id": "by-MvsjNjx5R"
      },
      "execution_count": 2,
      "outputs": []
    },
    {
      "cell_type": "code",
      "source": [],
      "metadata": {
        "id": "SwMVpP8MkVrK"
      },
      "execution_count": 2,
      "outputs": []
    },
    {
      "cell_type": "markdown",
      "source": [
        "### 다중 선형회귀 모델\n",
        "> 수능 시험 이전에 모의고사를 여러번 치른다. 여러번의 모의고사 점수로 예측해보자!\n",
        "\n",
        "##### 여러 독립 변수에 의해 영향을 받는 경우\n",
        "##### y = W1x1 + W2x2 + ...+ Wnxn + b의 식으로 표현"
      ],
      "metadata": {
        "id": "ZL9XQ8VSmCiQ"
      }
    },
    {
      "cell_type": "code",
      "source": [
        "X = [[68,74,69],\n",
        "     [83,81,76],\n",
        "     [100,94,84],\n",
        "     [71,68,67],\n",
        "     [63,64,66],\n",
        "     [70,70,70],\n",
        "     [77,83,90],\n",
        "     [86,94,90],\n",
        "     [76,71,77],\n",
        "     [64,74,84]]\n",
        "Y = np.array([71,78,90,68,66,72,89,92,78,80])"
      ],
      "metadata": {
        "id": "f-o1ovWvmKGh"
      },
      "execution_count": null,
      "outputs": []
    },
    {
      "cell_type": "code",
      "source": [],
      "metadata": {
        "id": "pcNMyvEemtCt"
      },
      "execution_count": 2,
      "outputs": []
    },
    {
      "cell_type": "code",
      "source": [
        "\n",
        "print(\"y = W1x1 + W2x2 + W3x3 + b\")\n",
        "print(w, b)\n",
        "print(\"정확도(R^2) = %.4f\" %model.score(X,Y))"
      ],
      "metadata": {
        "id": "knqNFgpCm0dY"
      },
      "execution_count": 3,
      "outputs": []
    },
    {
      "cell_type": "code",
      "source": [
        "x_new = np.array([[80,80,80], [90,80,70],[70,80,90]])\n",
        "print(model.predict(x_new))"
      ],
      "metadata": {
        "id": "NDpigKEvnq-L"
      },
      "execution_count": 4,
      "outputs": []
    },
    {
      "cell_type": "markdown",
      "source": [
        "#실습하기1\n",
        "> 기온에 따른 아이스크림 판매량 예측하기"
      ],
      "metadata": {
        "id": "51_nOwhdJWG0"
      }
    },
    {
      "cell_type": "code",
      "source": [
        "x = [[10],[13],[15],[20],[25]]\n",
        "y = np.array([40,52.3,60.4,80,88])"
      ],
      "metadata": {
        "id": "nsKUtepxJaY7"
      },
      "execution_count": null,
      "outputs": []
    },
    {
      "cell_type": "code",
      "source": [
        "#선형회귀 사용\n"
      ],
      "metadata": {
        "id": "zwG-AK-2NRw4"
      },
      "execution_count": 5,
      "outputs": []
    },
    {
      "cell_type": "code",
      "source": [
        "#선형회귀모델식과 정확도 구하기\n"
      ],
      "metadata": {
        "id": "nFL4YMqFNYgN"
      },
      "execution_count": 6,
      "outputs": []
    },
    {
      "cell_type": "code",
      "source": [
        "#23.5도, 17도, 30도일 때 예측값 구하기\n"
      ],
      "metadata": {
        "id": "I1sajCc9NuAK"
      },
      "execution_count": 7,
      "outputs": []
    },
    {
      "cell_type": "code",
      "source": [
        "#실제 데이터와 예측 그래프 그리기"
      ],
      "metadata": {
        "id": "TKG28T8pN8ky"
      },
      "execution_count": 8,
      "outputs": []
    }
  ]
}