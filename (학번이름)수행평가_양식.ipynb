{
  "cells": [
    {
      "cell_type": "markdown",
      "metadata": {
        "id": "view-in-github",
        "colab_type": "text"
      },
      "source": [
        "<a href=\"https://colab.research.google.com/github/dudgus7477/datascience/blob/main/(%ED%95%99%EB%B2%88%EC%9D%B4%EB%A6%84)%EC%88%98%ED%96%89%ED%8F%89%EA%B0%80_%EC%96%91%EC%8B%9D.ipynb\" target=\"_parent\"><img src=\"https://colab.research.google.com/assets/colab-badge.svg\" alt=\"Open In Colab\"/></a>"
      ]
    },
    {
      "cell_type": "markdown",
      "metadata": {
        "id": "W_1NjPBt49HX"
      },
      "source": [
        "# 0. 들어가기 전에, 한글 폰트 설정해주기\n",
        "\n",
        "#### 코랩에서 한글 폰트 설정\n",
        "1) 한글 폰트 코드 실행 \n",
        "\n",
        "```\n",
        "!sudo apt-get install -y fonts-nanum\n",
        "!sudo fc-cache -fv\n",
        "!rm ~/.cache/matplotlib -rf\n",
        "```\n",
        "\n",
        "2) 런타임 - 런타임 다시시작 \n",
        "\n",
        "3) 글꼴 지정 명령어 \n",
        "\n",
        "```\n",
        "plt.rc('font', family='NanumGothic')\n",
        "```\n",
        "\n"
      ]
    },
    {
      "cell_type": "code",
      "execution_count": 3,
      "metadata": {
        "id": "zUc6MMux5Dle"
      },
      "outputs": [],
      "source": [
        "!sudo apt-get install -y fonts-nanum\n",
        "!sudo fc-cache -fv\n",
        "!rm ~/.cache/matplotlib -rf"
      ]
    },
    {
      "cell_type": "markdown",
      "source": [
        "<img src='https://github.com/teacher-jiejie/allinone_AI/blob/images/87_%EB%A1%9C%EB%93%9C%EB%A7%B5.png?raw=true' width=700>"
      ],
      "metadata": {
        "id": "mKTfn7dyEBDZ"
      }
    },
    {
      "cell_type": "markdown",
      "metadata": {
        "id": "xvlpmB5a1UNg"
      },
      "source": [
        "#1. 프로젝트 목표 수립\n",
        "\n",
        ">목표 : \n",
        "\n",
        "######하위목표1.\n",
        "\n",
        "######하위목표2."
      ]
    },
    {
      "cell_type": "markdown",
      "source": [
        "#2. 데이터 선정하기\n",
        "\n",
        ">출처 : "
      ],
      "metadata": {
        "id": "41kLSN5fEaKF"
      }
    },
    {
      "cell_type": "code",
      "execution_count": 2,
      "metadata": {
        "id": "2oIWBP-G26K1"
      },
      "outputs": [],
      "source": [
        "#파일 업로드하기\n",
        "from google.colab import files\n",
        "uploaded = files.upload()"
      ]
    },
    {
      "cell_type": "code",
      "execution_count": null,
      "metadata": {
        "id": "O9PUKd526Ba-"
      },
      "outputs": [],
      "source": [
        "#csv 파일 파이썬으로 읽어오기\n",
        "import csv \n",
        "\n",
        "f = open('.csv', encoding='cp949')       \n",
        "data = csv.reader(f)        \n",
        "next(data)                  \n",
        "data = list(data)        "
      ]
    },
    {
      "cell_type": "markdown",
      "source": [
        "#3. 데이터 다뤄보기"
      ],
      "metadata": {
        "id": "jscfoPpPEv0V"
      }
    },
    {
      "cell_type": "code",
      "execution_count": 1,
      "metadata": {
        "id": "CqBQRVan6yTi"
      },
      "outputs": [],
      "source": [
        "#데이터 잘 들어왔는지 모두 출력하기기\n",
        "\n",
        "for row in data:\n",
        "  print(row)"
      ]
    },
    {
      "cell_type": "markdown",
      "metadata": {
        "id": "DXwZEh4R7rWp"
      },
      "source": [
        "##하위목표 1 : \n",
        "### 1) 알고리즘 작성\n"
      ]
    },
    {
      "cell_type": "code",
      "execution_count": null,
      "metadata": {
        "id": "WKWOwq0vA0SU"
      },
      "outputs": [],
      "source": [
        " "
      ]
    },
    {
      "cell_type": "code",
      "source": [
        " "
      ],
      "metadata": {
        "id": "JsnrqsBuDK0s"
      },
      "execution_count": null,
      "outputs": []
    },
    {
      "cell_type": "code",
      "source": [],
      "metadata": {
        "id": "1Q0-oACKXtfX"
      },
      "execution_count": null,
      "outputs": []
    },
    {
      "cell_type": "markdown",
      "source": [
        "### 2) 하위목표1 결과 분석\n",
        "### - \n",
        "### - "
      ],
      "metadata": {
        "id": "5MzG0SktmDcQ"
      }
    },
    {
      "cell_type": "markdown",
      "source": [
        "##하위목표 2 : \n",
        "### 1) 알고리즘 작성"
      ],
      "metadata": {
        "id": "Q1waSJ8yFimI"
      }
    },
    {
      "cell_type": "code",
      "source": [],
      "metadata": {
        "id": "ZEDTuxFfFoTr"
      },
      "execution_count": null,
      "outputs": []
    },
    {
      "cell_type": "code",
      "source": [],
      "metadata": {
        "id": "fsgryAGaFonN"
      },
      "execution_count": null,
      "outputs": []
    },
    {
      "cell_type": "code",
      "source": [],
      "metadata": {
        "id": "IJrdun-6Fo6n"
      },
      "execution_count": null,
      "outputs": []
    },
    {
      "cell_type": "markdown",
      "source": [
        "### 2) 하위목표2 결과 분석\n",
        "### - \n",
        "### - "
      ],
      "metadata": {
        "id": "zndUVAE0Fqgd"
      }
    },
    {
      "cell_type": "markdown",
      "source": [
        "#4. 최종 데이터 분석 결론\n",
        "### 1) \n",
        "### 2)\n",
        "### 3)"
      ],
      "metadata": {
        "id": "iAs9CCG_FuSV"
      }
    }
  ],
  "metadata": {
    "colab": {
      "provenance": [],
      "authorship_tag": "ABX9TyMHlojUaNfX1dqYUID0EVsW",
      "include_colab_link": true
    },
    "kernelspec": {
      "display_name": "Python 3",
      "name": "python3"
    },
    "language_info": {
      "name": "python"
    }
  },
  "nbformat": 4,
  "nbformat_minor": 0
}