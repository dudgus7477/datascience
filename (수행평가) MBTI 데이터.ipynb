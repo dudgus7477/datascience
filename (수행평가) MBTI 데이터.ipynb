{
  "cells": [
    {
      "cell_type": "markdown",
      "metadata": {
        "id": "view-in-github",
        "colab_type": "text"
      },
      "source": [
        "<a href=\"https://colab.research.google.com/github/dudgus7477/datascience/blob/main/(%EC%88%98%ED%96%89%ED%8F%89%EA%B0%80)%20MBTI%20%EB%8D%B0%EC%9D%B4%ED%84%B0.ipynb\" target=\"_parent\"><img src=\"https://colab.research.google.com/assets/colab-badge.svg\" alt=\"Open In Colab\"/></a>"
      ]
    },
    {
      "cell_type": "markdown",
      "source": [
        "## 수행평가 기준\n",
        "- 그래프 종류 2가지 이상(막대, 원, 산점도 등등)\n",
        "- 좋아하는 과목이나 색 둘중 하나를 목표로 세워 상관관계 파악하기\n",
        "- 논리적인 최종 결론 내리기(뉴스 기사나 논문등 신뢰성 있는 자료 찾아서 비교해보거나, 성격 유형과 관련지어 결론 내리기)"
      ],
      "metadata": {
        "id": "15PI8EAwN6Ue"
      }
    },
    {
      "cell_type": "markdown",
      "metadata": {
        "id": "W_1NjPBt49HX"
      },
      "source": [
        "# 0. 들어가기 전에, 한글 폰트 설정해주기\n",
        "\n",
        "#### 코랩에서 한글 폰트 설정\n",
        "1) 한글 폰트 코드 실행\n",
        "\n",
        "```\n",
        "!sudo apt-get install -y fonts-nanum\n",
        "!sudo fc-cache -fv\n",
        "!rm ~/.cache/matplotlib -rf\n",
        "```\n",
        "\n",
        "2) 런타임 - 런타임 다시시작\n",
        "\n",
        "3) 글꼴 지정 명령어\n",
        "\n",
        "```\n",
        "plt.rc('font', family='NanumGothic')\n",
        "```\n",
        "\n"
      ]
    },
    {
      "cell_type": "code",
      "execution_count": null,
      "metadata": {
        "id": "zUc6MMux5Dle",
        "colab": {
          "base_uri": "https://localhost:8080/"
        },
        "outputId": "76536378-b9ff-4fd8-b689-6048df420a51"
      },
      "outputs": [
        {
          "output_type": "stream",
          "name": "stdout",
          "text": [
            "Reading package lists... Done\n",
            "Building dependency tree... Done\n",
            "Reading state information... Done\n",
            "fonts-nanum is already the newest version (20200506-1).\n",
            "0 upgraded, 0 newly installed, 0 to remove and 49 not upgraded.\n",
            "/usr/share/fonts: caching, new cache contents: 0 fonts, 1 dirs\n",
            "/usr/share/fonts/truetype: caching, new cache contents: 0 fonts, 3 dirs\n",
            "/usr/share/fonts/truetype/humor-sans: caching, new cache contents: 1 fonts, 0 dirs\n",
            "/usr/share/fonts/truetype/liberation: caching, new cache contents: 16 fonts, 0 dirs\n",
            "/usr/share/fonts/truetype/nanum: caching, new cache contents: 12 fonts, 0 dirs\n",
            "/usr/local/share/fonts: caching, new cache contents: 0 fonts, 0 dirs\n",
            "/root/.local/share/fonts: skipping, no such directory\n",
            "/root/.fonts: skipping, no such directory\n",
            "/usr/share/fonts/truetype: skipping, looped directory detected\n",
            "/usr/share/fonts/truetype/humor-sans: skipping, looped directory detected\n",
            "/usr/share/fonts/truetype/liberation: skipping, looped directory detected\n",
            "/usr/share/fonts/truetype/nanum: skipping, looped directory detected\n",
            "/var/cache/fontconfig: cleaning cache directory\n",
            "/root/.cache/fontconfig: not cleaning non-existent cache directory\n",
            "/root/.fontconfig: not cleaning non-existent cache directory\n",
            "fc-cache: succeeded\n"
          ]
        }
      ],
      "source": [
        "!sudo apt-get install -y fonts-nanum\n",
        "!sudo fc-cache -fv\n",
        "!rm ~/.cache/matplotlib -rf"
      ]
    },
    {
      "cell_type": "markdown",
      "source": [
        "<img src='https://github.com/teacher-jiejie/allinone_AI/blob/images/87_%EB%A1%9C%EB%93%9C%EB%A7%B5.png?raw=true' width=700>"
      ],
      "metadata": {
        "id": "mKTfn7dyEBDZ"
      }
    },
    {
      "cell_type": "markdown",
      "metadata": {
        "id": "xvlpmB5a1UNg"
      },
      "source": [
        "#1. 프로젝트 목표 수립\n",
        "\n",
        ">목표 : MBTI와의 상관관계 분석\n",
        "\n",
        "######하위목표1. 직접 입력해주세요."
      ]
    },
    {
      "cell_type": "markdown",
      "source": [
        "**E (외향형) - I (내향형)**\n",
        "\n",
        "외향형 (E, Extraversion): 외부 세계와 상호 작용하는 것을 선호해요. 사람들과 함께 시간을 보내는 것을 좋아하며, 활발하고 사회적이에요.\n",
        "\n",
        "내향형 (I, Introversion): 내부 세계와 상호 작용하는 것을 선호해요. 혼자 있을 때 에너지를 충전하며, 조용하고 고요한 환경을 선호해요."
      ],
      "metadata": {
        "id": "lKUtGl3qJcwN"
      }
    },
    {
      "cell_type": "markdown",
      "source": [
        "**S (감각형) - N (직관형)**\n",
        "\n",
        "감각형 (S, Sensing): 현재와 실제 상황을 기반으로 정보를 처리하며, 구체적이고 사실적이에요.\n",
        "\n",
        "직관형 (N, Intuition): 미래와 가능성을 기반으로 정보를 처리하며, 추상적이고 창의적이에요."
      ],
      "metadata": {
        "id": "AMcj1ZRNJeAW"
      }
    },
    {
      "cell_type": "markdown",
      "source": [
        "**T (사고형) - F (감정형)**\n",
        "\n",
        "사고형 (T, Thinking): 객관적이고 논리적인 기준을 사용하여 결정을 내려요.\n",
        "\n",
        "감정형 (F, Feeling): 사람들의 감정과 가치를 기반으로 결정을 내려요."
      ],
      "metadata": {
        "id": "SPSRMLXcJgcr"
      }
    },
    {
      "cell_type": "markdown",
      "source": [
        "**J (판단형) - P (인식형)**\n",
        "\n",
        "판단형 (J, Judging): 확실하고 계획된 환경을 선호하며, 일을 시작할 때 목표를 설정해요.\n",
        "\n",
        "인식형 (P, Perceiving): 유연하고 개방적인 환경을 선호하며, 새로운 정보나 옵션을 탐색하는 것을 좋아해요."
      ],
      "metadata": {
        "id": "fofnNRQoJi9N"
      }
    },
    {
      "cell_type": "markdown",
      "source": [
        "#2. 데이터 읽어오기\n",
        "\n",
        ">출처 : 설문조사"
      ],
      "metadata": {
        "id": "41kLSN5fEaKF"
      }
    },
    {
      "cell_type": "markdown",
      "metadata": {
        "id": "DXwZEh4R7rWp"
      },
      "source": [
        "##하위목표 1 : 직접 입력해주세요.\n",
        "### 1) 알고리즘 작성\n"
      ]
    },
    {
      "cell_type": "code",
      "execution_count": null,
      "metadata": {
        "id": "WKWOwq0vA0SU"
      },
      "outputs": [],
      "source": [
        "#데이터 불러오기\n",
        "import matplotlib.pyplot as plt\n",
        "import seaborn as sns\n",
        "import pandas as pd\n",
        "df = pd.read_csv('', encoding='cp949')\n",
        "\n",
        "df.head()"
      ]
    },
    {
      "cell_type": "markdown",
      "source": [
        "### 참고예제\n",
        "### sns.countplot() : 기준(hue)에 따른 x값의 개수를 구해 그래프를 구해줌."
      ],
      "metadata": {
        "id": "cnJ15DKXJ_8_"
      }
    },
    {
      "cell_type": "code",
      "source": [
        "#I-E 성격 유형에 따른 좋아하는 과목\n",
        "plt.rc('font', family='NanumGothic')\n",
        "plt.figure(figsize=(10, 5))\n",
        "sns.countplot(data=df, x='I-E', hue='과목')\n",
        "plt.title('I-E 성격 유형에 따른 좋아하는 과목')\n",
        "plt.ylabel('학생 수')\n",
        "plt.xlabel('I-E 성격 유형')\n",
        "plt.legend(title='과목')\n",
        "plt.show()"
      ],
      "metadata": {
        "colab": {
          "base_uri": "https://localhost:8080/",
          "height": 484
        },
        "id": "oStvb0v8CHJM",
        "outputId": "c35a533a-408b-4f26-c8ab-15eea2fcfbc9"
      },
      "execution_count": null,
      "outputs": [
        {
          "output_type": "display_data",
          "data": {
            "text/plain": [
              "<Figure size 1000x500 with 1 Axes>"
            ],
            "image/png": "[encoded data removed]"
          },
          "metadata": {}
        }
      ]
    },
    {
      "cell_type": "markdown",
      "source": [
        "## 최종 결론\n",
        "여기에 작성해주세요."
      ],
      "metadata": {
        "id": "NoQYpYCnNW1c"
      }
    }
  ],
  "metadata": {
    "colab": {
      "provenance": [],
      "authorship_tag": "ABX9TyP/oecu+SdXQZBPAK9usuNP",
      "include_colab_link": true
    },
    "kernelspec": {
      "display_name": "Python 3",
      "name": "python3"
    },
    "language_info": {
      "name": "python"
    }
  },
  "nbformat": 4,
  "nbformat_minor": 0
}