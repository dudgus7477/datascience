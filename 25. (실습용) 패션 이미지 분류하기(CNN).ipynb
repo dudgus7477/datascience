{
  "nbformat": 4,
  "nbformat_minor": 0,
  "metadata": {
    "colab": {
      "provenance": [],
      "gpuType": "T4",
      "authorship_tag": "ABX9TyMiLVdYheh7pJaVNkvzXxfP",
      "include_colab_link": true
    },
    "kernelspec": {
      "name": "python3",
      "display_name": "Python 3"
    },
    "language_info": {
      "name": "python"
    },
    "accelerator": "GPU"
  },
  "cells": [
    {
      "cell_type": "markdown",
      "metadata": {
        "id": "view-in-github",
        "colab_type": "text"
      },
      "source": [
        "<a href=\"https://colab.research.google.com/github/dudgus7477/datascience/blob/main/25.%20(%EC%8B%A4%EC%8A%B5%EC%9A%A9)%20%ED%8C%A8%EC%85%98%20%EC%9D%B4%EB%AF%B8%EC%A7%80%20%EB%B6%84%EB%A5%98%ED%95%98%EA%B8%B0(CNN).ipynb\" target=\"_parent\"><img src=\"https://colab.research.google.com/assets/colab-badge.svg\" alt=\"Open In Colab\"/></a>"
      ]
    },
    {
      "cell_type": "markdown",
      "source": [
        "#CNN 알고리즘\n",
        "- 합성곱 신경망, 컨볼루션 신경망이라고 부름\n",
        "- 입력된 이미지에서 다시 한 번 특징을 추출하기 위해 커널(슬라이딩 윈도)을 도입하는 기법"
      ],
      "metadata": {
        "id": "K3Y0bChNXKpo"
      }
    },
    {
      "cell_type": "markdown",
      "source": [
        "##CNN 적용하여 패션 이미지 분류"
      ],
      "metadata": {
        "id": "iLsRgxww7abR"
      }
    },
    {
      "cell_type": "code",
      "execution_count": null,
      "metadata": {
        "id": "9VlCAUXCW9bX"
      },
      "outputs": [],
      "source": [
        "from tensorflow.keras.models import Sequential\n",
        "from tensorflow.keras.layers import Dense, Dropout, Flatten, Conv2D, MaxPooling2D\n",
        "from tensorflow.keras.callbacks import ModelCheckpoint, EarlyStopping\n",
        "from tensorflow.keras.datasets import fashion_mnist\n",
        "from tensorflow.keras.utils import to_categorical"
      ]
    },
    {
      "cell_type": "code",
      "source": [
        "import matplotlib.pyplot as plt\n",
        "import numpy as np\n",
        "\n",
        "(X_train, Y_train), (X_test, Y_test) = fashion_mnist.load_data()"
      ],
      "metadata": {
        "id": "7FfiYk9v78h5"
      },
      "execution_count": null,
      "outputs": []
    },
    {
      "cell_type": "code",
      "source": [
        "print(X_train.shape)\n",
        "print(X_test.shape)"
      ],
      "metadata": {
        "id": "yQMHVzZIYGrI"
      },
      "execution_count": null,
      "outputs": []
    },
    {
      "cell_type": "markdown",
      "source": [
        "#### 28x28 픽셀의 이미지가 train = 60000개, test = 10000개"
      ],
      "metadata": {
        "id": "czq-Xf9HYRVN"
      }
    },
    {
      "cell_type": "markdown",
      "source": [
        "종류는 다음과 같음.\n",
        "![image.png](data:image/png;base64,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)"
      ],
      "metadata": {
        "id": "lO-1g_E1Ya18"
      }
    },
    {
      "cell_type": "code",
      "source": [
        "import matplotlib.pyplot as plt\n",
        "plt.figure(figsize=(12,12))\n",
        "for i in range(9):\n",
        "    plt.subplot(3,3,i+1)\n",
        "    plt.title(Y_train[i])\n",
        "    plt.imshow(X_train[i])"
      ],
      "metadata": {
        "id": "3LCrCbHiYmZj"
      },
      "execution_count": null,
      "outputs": []
    },
    {
      "cell_type": "code",
      "source": [
        "class_names = ['T-shirt/top', 'Trouser', 'Pullover', 'Dress', 'Coat',\n",
        "               'Sandal', 'Shirt', 'Sneaker', 'Bag', 'Ankle boot']\n",
        "\n",
        "plt.figure(figsize=(10,8))\n",
        "for i in range(20):\n",
        "    plt.subplot(4,5,i+1)\n",
        "    plt.xticks([])\n",
        "    plt.yticks([])\n",
        "    plt.grid(False)\n",
        "    plt.imshow(X_train[i], cmap=plt.cm.binary) # 흑백으로 출력\n",
        "    plt.xlabel(class_names[Y_train[i]])\n",
        "plt.show()"
      ],
      "metadata": {
        "id": "V43uWCSN8Bv0"
      },
      "execution_count": null,
      "outputs": []
    },
    {
      "cell_type": "code",
      "source": [
        "#정규화 및 원핫인코딩\n",
        "X_train = X_train.reshape(X_train.shape[0], 28, 28, 1).astype('float32') / 255\n",
        "X_test = X_test.reshape(X_test.shape[0], 28, 28, 1).astype('float32') / 255\n",
        "y_train = to_categorical(Y_train)\n",
        "y_test = to_categorical(Y_test)"
      ],
      "metadata": {
        "id": "xT8AY3wGYCVi"
      },
      "execution_count": null,
      "outputs": []
    },
    {
      "cell_type": "code",
      "source": [
        "#CNN을 적용한 알고리즘\n",
        "model = Sequential()\n",
        "model.add(   (32, kernel_size=(3, 3), input_shape=(28, 28, 1), activation='relu')) #필터 개수\n",
        "model.add(   (64,(3,3), activation='relu'))\n",
        "model.add(    (pool_size=(2,2)))\n",
        "model.add(    (0.25))\n",
        "model.add(    ())\n",
        "model.add(    (128, activation='relu'))\n",
        "model.add(    (0.5))\n",
        "model.add(     (10, activation='softmax'))"
      ],
      "metadata": {
        "id": "g5QaP7Ol8nZZ"
      },
      "execution_count": null,
      "outputs": []
    },
    {
      "cell_type": "code",
      "source": [
        "model.compile(loss='categorical_crossentropy', optimizer='adam', metrics=['accuracy'])"
      ],
      "metadata": {
        "id": "eLfBO8Wt-Hc7"
      },
      "execution_count": null,
      "outputs": []
    },
    {
      "cell_type": "code",
      "source": [
        "modelpath=\"./data/model/MNIST_CNN.hdf5\"\n",
        "checkpointer = ModelCheckpoint(filepath=modelpath, monitor='val_loss', verbose=1, save_best_only=True)\n",
        "early_stopping_callback = EarlyStopping(monitor='val_loss', patience=10)"
      ],
      "metadata": {
        "id": "cwUnn7iy-U68"
      },
      "execution_count": null,
      "outputs": []
    },
    {
      "cell_type": "code",
      "source": [
        "history = model.fit(X_train, y_train, validation_split=0.25, epochs=30, batch_size=200, verbose=0, callbacks=[early_stopping_callback,checkpointer])"
      ],
      "metadata": {
        "id": "hGufiMZg-XjF"
      },
      "execution_count": null,
      "outputs": []
    },
    {
      "cell_type": "code",
      "source": [
        "print(\"\\n Test Accuracy: %.4f\" % (model.evaluate(X_test, y_test)[1]))"
      ],
      "metadata": {
        "id": "ISelB-ib-bAd"
      },
      "execution_count": null,
      "outputs": []
    },
    {
      "cell_type": "code",
      "source": [
        "# 인공지능이 잘 구분한 것과 잘 구분하지 않은 것 살펴보기\n",
        "predicted_classes = np.argmax(model.predict(X_test), axis=1)\n",
        "correct_indices = np.nonzero(predicted_classes == Y_test)[0]\n",
        "incorrect_indices = np.nonzero(predicted_classes != Y_test)[0]"
      ],
      "metadata": {
        "id": "d3u2juNgC0pt"
      },
      "execution_count": null,
      "outputs": []
    },
    {
      "cell_type": "code",
      "source": [
        "plt.figure()\n",
        "for i in range(9):\n",
        "  plt.subplot(3,3,i+1)\n",
        "  correct = correct_indices[i]\n",
        "  plt.imshow(X_test[correct].reshape(28,28), cmap = 'gray')\n",
        "  plt.title(\"Predicted {}, Class {}\".format(predicted_classes[correct], Y_test[correct]))\n",
        "  plt.tight_layout()"
      ],
      "metadata": {
        "id": "txUrWNSFDafM"
      },
      "execution_count": null,
      "outputs": []
    },
    {
      "cell_type": "code",
      "source": [
        "plt.figure()\n",
        "for i in range(9):\n",
        "  plt.subplot(3,3,i+1)\n",
        "  incorrect = incorrect_indices[i]\n",
        "  plt.imshow(X_test[incorrect].reshape(28,28), cmap = 'gray')\n",
        "  plt.title(\"Predicted {}, Class {}\".format(predicted_classes[incorrect], Y_test[incorrect]))\n",
        "  plt.tight_layout()"
      ],
      "metadata": {
        "id": "XongNIPzDexF"
      },
      "execution_count": null,
      "outputs": []
    },
    {
      "cell_type": "markdown",
      "source": [
        "## 모델 검증하기(예측 테스트)"
      ],
      "metadata": {
        "id": "H8MQu4Bp_2JR"
      }
    },
    {
      "cell_type": "code",
      "source": [
        "#내가 테스트 하고 싶은 것 눈으로 확인하고 인공지능의 예측 결과 비교하기\n",
        "plt.figure()\n",
        "plt.imshow(X_test[])\n",
        "plt.colorbar()\n",
        "plt.grid(False)\n",
        "plt.show()"
      ],
      "metadata": {
        "id": "OUDIYNcZ9s3I"
      },
      "execution_count": null,
      "outputs": []
    },
    {
      "cell_type": "code",
      "source": [
        "y_test[  ]"
      ],
      "metadata": {
        "id": "qtfy_tVCD0bt"
      },
      "execution_count": null,
      "outputs": []
    },
    {
      "cell_type": "code",
      "source": [
        "output = model.predict(X_test)\n",
        "print(\"결과는 : \", np.argmax(output[  ]))"
      ],
      "metadata": {
        "id": "ft3xDto7-N7y"
      },
      "execution_count": null,
      "outputs": []
    },
    {
      "cell_type": "code",
      "source": [
        "output[  ]"
      ],
      "metadata": {
        "id": "eCnHXVP8Bs5Z"
      },
      "execution_count": null,
      "outputs": []
    }
  ]
}