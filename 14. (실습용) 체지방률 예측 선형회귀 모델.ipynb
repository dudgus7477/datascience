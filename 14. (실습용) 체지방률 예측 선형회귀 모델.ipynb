{
  "nbformat": 4,
  "nbformat_minor": 0,
  "metadata": {
    "colab": {
      "provenance": [],
      "include_colab_link": true
    },
    "kernelspec": {
      "name": "python3",
      "display_name": "Python 3"
    },
    "language_info": {
      "name": "python"
    }
  },
  "cells": [
    {
      "cell_type": "markdown",
      "metadata": {
        "id": "view-in-github",
        "colab_type": "text"
      },
      "source": [
        "<a href=\"https://colab.research.google.com/github/dudgus7477/datascience/blob/main/14.%20(%EC%8B%A4%EC%8A%B5%EC%9A%A9)%20%EC%B2%B4%EC%A7%80%EB%B0%A9%EB%A5%A0%20%EC%98%88%EC%B8%A1%20%EC%84%A0%ED%98%95%ED%9A%8C%EA%B7%80%20%EB%AA%A8%EB%8D%B8.ipynb\" target=\"_parent\"><img src=\"https://colab.research.google.com/assets/colab-badge.svg\" alt=\"Open In Colab\"/></a>"
      ]
    },
    {
      "cell_type": "markdown",
      "source": [
        "## **0.문제 정의**"
      ],
      "metadata": {
        "id": "t6ucGzKtonDP"
      }
    },
    {
      "cell_type": "markdown",
      "source": [
        "- 지속가능발전목표\n",
        "\n",
        "    <img src=\"http://ncsd.go.kr/api/logo-3[120x120]_png.png\" width=100>\n",
        "\n",
        "- 문제: 전세계 비만 인구 폭증, 2053년에는 세계 인구 절반이 비만?\n",
        "    - 비만은 지방이 정상보다 더 많은 축적된 상태이므로 체지방량을 측정하여 평가하는 것이 가장 정확하다. 그러나 실제 채내 지방량을 정확히 측정하기는 어려워, 간접적으로 평가하게 되며 그 중 많이 사용하는 방법이 체질량지수와 허리둘레의 측정이다.\n",
        "    - ‘세계비만연맹’은 2035년에는 세계 인구의 절반 이상이 비만 또는 과체중으로 분류될 것이라고 경고했다. 특히 어린이 비만율이 가장 빠르게 증가할 것이라고 하며, 지역 및 소득 별로는 아프리카와 아시아의 중저소득 국가의 비만율이 가장 상승할 것으로 예상된다. 이는 저소득국에 체중 관리 및 건강 교육 관련 지원이 특히 부족하기 때문이다.\n",
        "    - <img src=\"https://img5.yna.co.kr/etc/graphic/YH/2021/12/31/GYH2021123100140004400_P4.jpg\" width=500px>\n",
        "    - 출처\n",
        "        - BBC코리아 https://www.bbc.com/korean/articles/crgrj032p60o\n",
        "        - 연합뉴스 https://www.yna.co.kr/view/AKR20220129020800002"
      ],
      "metadata": {
        "id": "n9fnvpTwo809"
      }
    },
    {
      "cell_type": "markdown",
      "source": [
        "## **>>>한글 폰트 설치 및 라이브러리 호출하기**"
      ],
      "metadata": {
        "id": "REjglgJYoWNO"
      }
    },
    {
      "cell_type": "code",
      "execution_count": 1,
      "metadata": {
        "id": "CkPqdspi8AXj"
      },
      "outputs": [],
      "source": [
        "!sudo apt-get install -y fonts-nanum\n",
        "!sudo fc-cache -fv\n",
        "!rm ~/.cache/matplotlib -rf"
      ]
    },
    {
      "cell_type": "code",
      "source": [
        "# 3) 폰트를 나눔고딕으로~\n",
        "import matplotlib.pyplot as plt\n",
        "plt.rcParams['font.family'] = 'NanumBarunGothic'"
      ],
      "metadata": {
        "id": "TEYQAEm88qz-"
      },
      "execution_count": null,
      "outputs": []
    },
    {
      "cell_type": "code",
      "execution_count": null,
      "metadata": {
        "id": "RyBSu1iQOMEG"
      },
      "outputs": [],
      "source": [
        "# numpy, pandas, seaborn 라이브러리 불러오기\n",
        "import numpy as np\n",
        "import pandas as pd\n",
        "import seaborn as sns"
      ]
    },
    {
      "cell_type": "markdown",
      "source": [
        "## **1.데이터 수집 및 업로드**"
      ],
      "metadata": {
        "id": "4q5wJqaBVI1e"
      }
    },
    {
      "cell_type": "code",
      "source": [
        "# 데이터 불러오기\n",
        "df = pd.read_csv(' ', encoding='utf-8')\n",
        "\n",
        "# 데이터의 상위 5개 샘플 출력\n",
        "df.head()"
      ],
      "metadata": {
        "id": "IeXmBFsBObrF"
      },
      "execution_count": 2,
      "outputs": []
    },
    {
      "cell_type": "markdown",
      "source": [
        "### **2-1. 이상치, 결측치를 확인해보자**"
      ],
      "metadata": {
        "id": "NXwXX2AyPttx"
      }
    },
    {
      "cell_type": "code",
      "source": [
        "# 컬럼별 결측값 개수 확인\n"
      ],
      "metadata": {
        "id": "MPVDqEuBRXsS"
      },
      "execution_count": 3,
      "outputs": []
    },
    {
      "cell_type": "code",
      "source": [
        "# 결측값이 있는 행 삭제하기\n"
      ],
      "metadata": {
        "id": "_cOMvavzPF22"
      },
      "execution_count": 4,
      "outputs": []
    },
    {
      "cell_type": "markdown",
      "source": [
        "### **2-2. 체지방률은 어떤 분포를 보일까?**"
      ],
      "metadata": {
        "id": "YojGFZcZsr47"
      }
    },
    {
      "cell_type": "code",
      "source": [
        "# 체지방률 분포 확인하기-히스토그램\n",
        "plt.hist(df[''], bins = 100)\n",
        "plt.show()"
      ],
      "metadata": {
        "id": "uOMnZljJXCRI"
      },
      "execution_count": 5,
      "outputs": []
    },
    {
      "cell_type": "markdown",
      "source": [
        "### **2-3. 체지방률과 다른 속성은 서로 어떤 관계에 있을까?**"
      ],
      "metadata": {
        "id": "zfnx2B80tcoq"
      }
    },
    {
      "cell_type": "code",
      "source": [
        "from sklearn.preprocessing import LabelEncoder\n",
        "\n",
        "le = LabelEncoder()\n",
        "df['연령대'] = le.fit_transform(df['연령대'])\n",
        "df['성별'] = le.fit_transform(df['성별'])"
      ],
      "metadata": {
        "id": "-_2uHL36_KCI"
      },
      "execution_count": null,
      "outputs": []
    },
    {
      "cell_type": "code",
      "source": [
        "# 체지방률과 다른 컬럼 간 상관관계\n"
      ],
      "metadata": {
        "id": "rYQJXPSMRlKD"
      },
      "execution_count": 6,
      "outputs": []
    },
    {
      "cell_type": "markdown",
      "source": [
        "### **2-4. 체지방률과 유의미한 상관관계가 있는 속성을 시각화로 확인해볼까?**"
      ],
      "metadata": {
        "id": "KKY9nVgquS9W"
      }
    },
    {
      "cell_type": "code",
      "source": [
        "# 상대악력과 체지방률 분포 확인하기\n",
        "sns.jointplot(x='', y='', data=df, color='pink')\n",
        "plt.show()"
      ],
      "metadata": {
        "id": "XGXW2-XvXZO2"
      },
      "execution_count": 7,
      "outputs": []
    },
    {
      "cell_type": "code",
      "source": [
        "# BMI와 체지방률 분포 확인하기\n",
        "sns.jointplot(x='', y='', data=df, color='pink')"
      ],
      "metadata": {
        "id": "MRZAfsJBYtSs"
      },
      "execution_count": 8,
      "outputs": []
    },
    {
      "cell_type": "markdown",
      "source": [
        "## **3.모델 정의 및 성능 평가**"
      ],
      "metadata": {
        "id": "ucYAAv01t7ve"
      }
    },
    {
      "cell_type": "markdown",
      "source": [
        "### **모델1: 상관 관계가 가장 높은 하나의 속성을 활용하자**\n",
        "\n",
        "- 단일선형회귀모델\n",
        "- 독립변수가 1개, 종속변수가 1개\n",
        "- 선형회귀 관련 메소드\n",
        "    - fit()：선형 모델의 가중치를 학습\n",
        "    - predict()：선형 모델로부터 종속변수를 예측\n",
        "    - score()：결정계수 (선형 모델이 어느정도의 종속변수를 설명할 수 있는가)"
      ],
      "metadata": {
        "id": "4ye_PLe0nVXb"
      }
    },
    {
      "cell_type": "code",
      "source": [
        "from sklearn.model_selection import train_test_split\n",
        "\n",
        "# 학습에 사용할 속성과 레이블 분리\n",
        "X =\n",
        "y =\n",
        "\n",
        "# 훈련 데이터와 테스트 데이터 분리\n",
        "X_train, X_test, y_train, y_test = train_test_split(X, y, test_size=0.2, random_state=7)"
      ],
      "metadata": {
        "id": "2AFb3DtUlA8Q"
      },
      "execution_count": null,
      "outputs": []
    },
    {
      "cell_type": "code",
      "source": [
        "from sklearn.linear_model import LinearRegression\n",
        "\n",
        "# 선형회귀 모델 정의\n"
      ],
      "metadata": {
        "id": "yvkbHxZim_K9"
      },
      "execution_count": null,
      "outputs": []
    },
    {
      "cell_type": "code",
      "source": [
        "# 산점도로 예측값과 실제값의 분포 확인하기\n",
        "plt.figure(figsize=(6,4))\n",
        "\n",
        "# 테스트 데이터의 예측값\n",
        "plt.plot()\n",
        "\n",
        "# 테스트 데이터의 실제값\n",
        "plt.scatter()\n",
        "\n",
        "plt.xlabel('상대악력')\n",
        "plt.ylabel('체지방률')\n",
        "plt.legend()\n",
        "\n",
        "plt.show()"
      ],
      "metadata": {
        "id": "9oOeG3jenwkl"
      },
      "execution_count": 9,
      "outputs": []
    },
    {
      "cell_type": "code",
      "source": [
        "# 모델 점수 확인하기\n"
      ],
      "metadata": {
        "id": "Y-Y2ygfGpVr3"
      },
      "execution_count": 10,
      "outputs": []
    },
    {
      "cell_type": "markdown",
      "source": [
        "### **모델2: 상관 관계가 높은 5개 속성을 활용하자**\n",
        "\n",
        "- 다중선형회귀모델\n",
        "- 독립변수가 여러 개, 종속변수가 1개"
      ],
      "metadata": {
        "id": "0PpMsX_Dnoym"
      }
    },
    {
      "cell_type": "code",
      "source": [
        "# 학습에 사용할 속성과 레이블 분리\n",
        "X =\n",
        "y =\n",
        "\n",
        "# 훈련 데이터와 테스트 데이터 분리\n",
        "X_train, X_test, y_train, y_test = train_test_split(X, y, test_size=0.2, random_state=7)"
      ],
      "metadata": {
        "id": "f5BAKfM_i46v"
      },
      "execution_count": null,
      "outputs": []
    },
    {
      "cell_type": "code",
      "source": [
        "# 선형회귀 모델 정의\n"
      ],
      "metadata": {
        "id": "vpEeN6nijZO_"
      },
      "execution_count": null,
      "outputs": []
    },
    {
      "cell_type": "code",
      "source": [
        "# 모델 점수 확인하기\n"
      ],
      "metadata": {
        "id": "K-wt-OTYm_1J"
      },
      "execution_count": 11,
      "outputs": []
    },
    {
      "cell_type": "markdown",
      "source": [
        "### **모델3: 피처 스케일링을 적용해보자**"
      ],
      "metadata": {
        "id": "vXonPUTo7jDc"
      }
    },
    {
      "cell_type": "code",
      "source": [
        "from sklearn.preprocessing import StandardScaler\n",
        "\n",
        "to_scale = ['상대악력', '신장', 'BMI', '허리둘레']\n",
        "scaler = StandardScaler()\n",
        "X_train_scaled = X_train.copy()\n",
        "X_train_scaled[to_scale] = scaler.fit_transform(X_train_scaled[to_scale])\n",
        "X_train_scaled.head()"
      ],
      "metadata": {
        "id": "fXoa03Ad0iqu"
      },
      "execution_count": 12,
      "outputs": []
    },
    {
      "cell_type": "code",
      "source": [
        "X_test_scaled = X_test.copy()\n",
        "X_test_scaled[to_scale] = scaler.transform(X_test[to_scale])"
      ],
      "metadata": {
        "id": "qg5ttvQ10iq3"
      },
      "execution_count": null,
      "outputs": []
    },
    {
      "cell_type": "code",
      "source": [
        "# 선형회귀 모델 정의\n",
        "lr3 = LinearRegression()\n",
        "lr3.fit(X_train_scaled, y_train)\n",
        "y_pred = lr3.predict(X_test_scaled)"
      ],
      "metadata": {
        "id": "9ygUE-PX0iq3"
      },
      "execution_count": null,
      "outputs": []
    },
    {
      "cell_type": "code",
      "source": [
        "# 모델 점수 확인하기\n",
        "lr3.score(X_test_scaled, y_test)"
      ],
      "metadata": {
        "id": "GQID1ekn0iq4"
      },
      "execution_count": 13,
      "outputs": []
    },
    {
      "cell_type": "markdown",
      "source": [
        "## **4.일반화 및 공유**"
      ],
      "metadata": {
        "id": "edjggPagvMHS"
      }
    },
    {
      "cell_type": "markdown",
      "source": [
        "- 무엇을 해야할까요?\n",
        "    - 분석 목적부터 데이터 수집, 분석 등 전 과정 성찰(사회적, 윤리적 문제 성찰)\n",
        "    - 사회적 영향 고려하여 분석 결과의 활용방안 탐색\n",
        "    - 문제해결 결과를 일반화하고 공유\n"
      ],
      "metadata": {
        "id": "9XeOxiPcvQhg"
      }
    },
    {
      "cell_type": "markdown",
      "source": [
        "자신의 생각 적어보기\n",
        "\n",
        "\n",
        "---\n",
        "\n"
      ],
      "metadata": {
        "id": "rz5JUPQGHTAs"
      }
    }
  ]
}