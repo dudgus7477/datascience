{
  "cells": [
    {
      "cell_type": "markdown",
      "metadata": {
        "id": "view-in-github",
        "colab_type": "text"
      },
      "source": [
        "<a href=\"https://colab.research.google.com/github/dudgus7477/datascience/blob/main/10.%20(%EC%8B%A4%EC%8A%B5%EC%9A%A9)%20%EA%B8%B0%EC%98%A8%EB%8D%B0%EC%9D%B4%ED%84%B0.ipynb\" target=\"_parent\"><img src=\"https://colab.research.google.com/assets/colab-badge.svg\" alt=\"Open In Colab\"/></a>"
      ]
    },
    {
      "cell_type": "markdown",
      "metadata": {
        "id": "W_1NjPBt49HX"
      },
      "source": [
        "# 0. 들어가기 전에, 한글 폰트 설정해주기\n",
        "\n",
        "#### 코랩에서 한글 폰트 설정\n",
        "1) 한글 폰트 코드 실행\n",
        "\n",
        "```\n",
        "!sudo apt-get install -y fonts-nanum\n",
        "!sudo fc-cache -fv\n",
        "!rm ~/.cache/matplotlib -rf\n",
        "```\n",
        "\n",
        "2) 런타임 - 런타임 다시시작\n",
        "\n",
        "3) 글꼴 지정 명령어\n",
        "\n",
        "```\n",
        "plt.rc('font', family='NanumGothic')\n",
        "```\n",
        "\n"
      ]
    },
    {
      "cell_type": "markdown",
      "metadata": {
        "id": "xvlpmB5a1UNg"
      },
      "source": [
        "#1. 프로젝트 목표 수립\n",
        "\n",
        ">목표 : 기온 데이터 분석\n",
        "\n",
        "######하위목표1. 청주에서 가장 더웠던 날은?\n",
        "\n",
        "######하위목표2. 연도별 기온데이터를 시각화하기기\n",
        "\n",
        "######기타 하위목표. 일교차가 가장 클 때는? 가장 덥다고 알려진 대구보다 더운 날이 있었을까?"
      ]
    },
    {
      "cell_type": "markdown",
      "metadata": {
        "id": "Or6lYeeM2Yji"
      },
      "source": [
        "#####기상청은 기상자료개방포털 홈페이지를 통해 기상 관련 데이터를 무료로 개방한다.\n",
        "\n",
        "> https://data.kma.go.kr\n",
        "\n",
        "#####'기후통계분석-> 기온분석'\n"
      ]
    },
    {
      "cell_type": "code",
      "execution_count": 1,
      "metadata": {
        "id": "O9PUKd526Ba-"
      },
      "outputs": [],
      "source": [
        "#csv 파일 파이썬으로 읽어오기\n",
        "import csv\n",
        "\n",
        "f = open('', encoding='cp949')\n",
        "data = csv.reader(f)\n",
        "next(data)\n",
        "data = list(data)"
      ]
    },
    {
      "cell_type": "markdown",
      "source": [
        "데이터 불러오는 인코딩 방법\n",
        "\n",
        "*   운영체제 window -> encoding ='cp949'\n",
        "*            mac -> encoding = 'UTF-8'\n",
        "\n"
      ],
      "metadata": {
        "id": "yWnmTi8Dccch"
      }
    },
    {
      "cell_type": "markdown",
      "metadata": {
        "id": "6lF1_gt77C4a"
      },
      "source": [
        "#2. 데이터 다뤄보기\n"
      ]
    },
    {
      "cell_type": "code",
      "execution_count": 2,
      "metadata": {
        "id": "CqBQRVan6yTi"
      },
      "outputs": [],
      "source": [
        "#기온데이터 모두 출력하기기\n"
      ]
    },
    {
      "cell_type": "code",
      "execution_count": 3,
      "metadata": {
        "id": "OZbMO7fdAj_q"
      },
      "outputs": [],
      "source": [
        "#기온만 출력하기\n"
      ]
    },
    {
      "cell_type": "markdown",
      "metadata": {
        "id": "DXwZEh4R7rWp"
      },
      "source": [
        "##하위목표 1\n",
        "###청주의 최고기온이 가장 높았던 날은 언제였고, 몇 도였을까?\n",
        "######(기간은 자신이 설정한 만큼으로)\n"
      ]
    },
    {
      "cell_type": "code",
      "execution_count": 3,
      "metadata": {
        "id": "gKaDkyDABjt9"
      },
      "outputs": [],
      "source": []
    },
    {
      "cell_type": "markdown",
      "metadata": {
        "id": "Zl57Z3acCbK3"
      },
      "source": [
        "##하위목표2\n",
        "###2023년과 2024년의 기온 차이를 시각화하기\n"
      ]
    },
    {
      "cell_type": "code",
      "execution_count": 3,
      "metadata": {
        "id": "9AlDymyWCvm5"
      },
      "outputs": [],
      "source": []
    },
    {
      "cell_type": "markdown",
      "source": [
        "### 실습1. 목표 설정 후 시각화해보기\n",
        "\n",
        "- ex. 2023년도와 2024년도 기온 가장 높았던 날 각각 출력하기\n",
        "- ex. 최근 10년간 같은 날 기온 변화율 시각화하기"
      ],
      "metadata": {
        "id": "nUZGoQpDLWEL"
      }
    },
    {
      "cell_type": "code",
      "source": [],
      "metadata": {
        "id": "rMO-tcCiMGxm"
      },
      "execution_count": null,
      "outputs": []
    }
  ],
  "metadata": {
    "colab": {
      "provenance": [],
      "authorship_tag": "ABX9TyOyEr9HBs1klkPYNSJ39kiI",
      "include_colab_link": true
    },
    "kernelspec": {
      "display_name": "Python 3",
      "name": "python3"
    },
    "language_info": {
      "name": "python"
    }
  },
  "nbformat": 4,
  "nbformat_minor": 0
}