{
  "nbformat": 4,
  "nbformat_minor": 0,
  "metadata": {
    "colab": {
      "provenance": [],
      "authorship_tag": "ABX9TyO/P4Biv2Tgg7mkQhinhIEG",
      "include_colab_link": true
    },
    "kernelspec": {
      "name": "python3",
      "display_name": "Python 3"
    },
    "language_info": {
      "name": "python"
    }
  },
  "cells": [
    {
      "cell_type": "markdown",
      "metadata": {
        "id": "view-in-github",
        "colab_type": "text"
      },
      "source": [
        "<a href=\"https://colab.research.google.com/github/dudgus7477/datascience/blob/main/(%EC%8B%A4%EC%8A%B5%EC%9A%A9)%EC%98%81%ED%99%94%20%EB%A6%AC%EB%B7%B0%20%EC%9E%90%EC%97%B0%EC%96%B4%20%EC%B2%98%EB%A6%AC2.ipynb\" target=\"_parent\"><img src=\"https://colab.research.google.com/assets/colab-badge.svg\" alt=\"Open In Colab\"/></a>"
      ]
    },
    {
      "cell_type": "markdown",
      "source": [
        "#1. 필요한 라이브러리 설치 및 불러오기\n",
        "- 코엔엘파이와 워드클라우드 라이브러리 설치\n",
        "- 판다스, 맵플롯립, 콜렉션즈, 워드클라우드 라이브러리 임포트"
      ],
      "metadata": {
        "id": "xteO2GGyqTqA"
      }
    },
    {
      "cell_type": "code",
      "execution_count": null,
      "metadata": {
        "id": "uTORV8CKpvLc"
      },
      "outputs": [],
      "source": [
        "!pip install konlpy\n",
        "!pip install wordcloud\n",
        "import pandas as pd\n",
        "import matplotlib.pyplot as plt\n",
        "import collections\n",
        "from wordcloud import WordCloud\n",
        "from konlpy.tag import Okt\n",
        "okt = Okt()"
      ]
    },
    {
      "cell_type": "markdown",
      "source": [
        "#2. 데이터 로드하기"
      ],
      "metadata": {
        "id": "eeJrdA4bqe0u"
      }
    },
    {
      "cell_type": "code",
      "source": [],
      "metadata": {
        "id": "ke0VpJ8zqd6-"
      },
      "execution_count": null,
      "outputs": []
    },
    {
      "cell_type": "code",
      "source": [
        "#전체 데이터 개수\n"
      ],
      "metadata": {
        "id": "kcxMNPcVrVD_"
      },
      "execution_count": null,
      "outputs": []
    },
    {
      "cell_type": "markdown",
      "source": [
        "#3. 데이터 전처리"
      ],
      "metadata": {
        "id": "2Fd-kEQArP_8"
      }
    },
    {
      "cell_type": "code",
      "source": [
        "#중복값 제거\n"
      ],
      "metadata": {
        "id": "ZXUrDKCct_XF"
      },
      "execution_count": null,
      "outputs": []
    },
    {
      "cell_type": "code",
      "source": [
        "#널값 제거\n"
      ],
      "metadata": {
        "id": "7pMkKN9srR6E"
      },
      "execution_count": null,
      "outputs": []
    },
    {
      "cell_type": "code",
      "source": [],
      "metadata": {
        "id": "x6r8JiXMssy9"
      },
      "execution_count": null,
      "outputs": []
    },
    {
      "cell_type": "markdown",
      "source": [
        "#4-1. 데이터 통계"
      ],
      "metadata": {
        "id": "C1RgOgYis_Rq"
      }
    },
    {
      "cell_type": "code",
      "source": [
        "#영화 개수 확인\n"
      ],
      "metadata": {
        "id": "RFTVh41ytCL-"
      },
      "execution_count": null,
      "outputs": []
    },
    {
      "cell_type": "code",
      "source": [
        "#영화별 평점 평균\n"
      ],
      "metadata": {
        "id": "mWwUw0ygtJjC"
      },
      "execution_count": null,
      "outputs": []
    },
    {
      "cell_type": "code",
      "source": [
        "#영화별 리뷰 수"
      ],
      "metadata": {
        "id": "hfel2fJFtWm3"
      },
      "execution_count": null,
      "outputs": []
    },
    {
      "cell_type": "markdown",
      "source": [
        "#4-2. 영화 리뷰 형태소 분석"
      ],
      "metadata": {
        "id": "PNIVaxgLtiMp"
      }
    },
    {
      "cell_type": "code",
      "source": [
        "#고양이 집사 데이터만 추출하기\n"
      ],
      "metadata": {
        "id": "P5veuj5qtn3j"
      },
      "execution_count": null,
      "outputs": []
    },
    {
      "cell_type": "markdown",
      "source": [
        "#5. 워드클라우드"
      ],
      "metadata": {
        "id": "HTBMPCyyOAhz"
      }
    },
    {
      "cell_type": "code",
      "source": [
        "#글꼴 설치\n",
        "! apt-get install fonts-nanum\n",
        "font_path='/usr/share/fonts/truetype.nanum/NanumBarunGothic.ttf'"
      ],
      "metadata": {
        "id": "NRAZ9Sx6OBub"
      },
      "execution_count": null,
      "outputs": []
    },
    {
      "cell_type": "code",
      "source": [
        "#워드 클라우드 설정\n",
        "from wordcloud import WordCloud\n",
        "wc = WordCloud(font_path=font_path, background_color='babypink', max_font_size=60)\n",
        "cloud=wc.generate_from_frequencies(dict(tag))"
      ],
      "metadata": {
        "id": "dqI3dObhPC3H"
      },
      "execution_count": null,
      "outputs": []
    },
    {
      "cell_type": "code",
      "source": [
        "#워드클라우드 시각화\n",
        "plt.figure(figsize=(10, 8))\n",
        "plt.imshow(cloud)"
      ],
      "metadata": {
        "id": "asKNzmHFPFqF"
      },
      "execution_count": null,
      "outputs": []
    }
  ]
}