{
  "nbformat": 4,
  "nbformat_minor": 0,
  "metadata": {
    "colab": {
      "provenance": [],
      "authorship_tag": "ABX9TyNNW/2iZV5YcqUy7FTfgVoE",
      "include_colab_link": true
    },
    "kernelspec": {
      "name": "python3",
      "display_name": "Python 3"
    },
    "language_info": {
      "name": "python"
    }
  },
  "cells": [
    {
      "cell_type": "markdown",
      "metadata": {
        "id": "view-in-github",
        "colab_type": "text"
      },
      "source": [
        "<a href=\"https://colab.research.google.com/github/dudgus7477/datascience/blob/main/22.%20(%EC%8B%A4%EC%8A%B5%EC%9A%A9)%20%EB%8B%B9%EB%87%A8%EB%B3%91%20%EC%98%88%EC%B8%A1%ED%95%98%EA%B8%B0.ipynb\" target=\"_parent\"><img src=\"https://colab.research.google.com/assets/colab-badge.svg\" alt=\"Open In Colab\"/></a>"
      ]
    },
    {
      "cell_type": "markdown",
      "source": [
        "#데이터 준비하기\n",
        "- 캐글 : https://www.kaggle.com/datasets/uciml/pima-indians-diabetes-database\n",
        "- 피마 인디언 당뇨병 발병 데이터 셋"
      ],
      "metadata": {
        "id": "JPvC_r9gQlWp"
      }
    },
    {
      "cell_type": "code",
      "source": [
        "#데이터 표현하기\n",
        "import pandas as pd\n",
        "df = pd.read_csv('')\n",
        "df.head(10)"
      ],
      "metadata": {
        "id": "uTKv6TLAQZxR"
      },
      "execution_count": 1,
      "outputs": []
    },
    {
      "cell_type": "markdown",
      "source": [
        "데이터 : 임신 횟수, 포도당 농도(공복혈당농도), 혈압, 피부두께, 인슐린, 체질량 지수, 가족력, 나이, 5년이내 발병여부"
      ],
      "metadata": {
        "id": "kpAzqgg9TY2b"
      }
    },
    {
      "cell_type": "code",
      "source": [
        "#혈압과 당뇨병 발병 여부만 확인해보기\n"
      ],
      "metadata": {
        "id": "DGU3DyU_SqoY"
      },
      "execution_count": 2,
      "outputs": []
    },
    {
      "cell_type": "code",
      "source": [
        "#평균값으로 대체하기\n",
        "zero = ['Glucose', 'BloodPressure', 'SkinThickness', 'Insulin', 'BMI']\n",
        "\n",
        "df.head(10)"
      ],
      "metadata": {
        "id": "hxIc-CkA-JZ5"
      },
      "execution_count": 3,
      "outputs": []
    },
    {
      "cell_type": "code",
      "source": [
        "#그래프형으로 데이터 표현하기\n",
        "import matplotlib.pyplot as plt\n",
        "import seaborn as sns\n",
        "\n",
        "plt.figure(figsize=(12,12))\n",
        "sns.heatmap(df.corr(), annot=True, linewidths=0.1, vmax=0.5, cmap='Blues')\n",
        "plt.show()"
      ],
      "metadata": {
        "id": "IpUVqL3H_Kw1"
      },
      "execution_count": 4,
      "outputs": []
    },
    {
      "cell_type": "markdown",
      "source": [
        "#모델 설계하기"
      ],
      "metadata": {
        "id": "ruN8KMIvAmsH"
      }
    },
    {
      "cell_type": "code",
      "source": [],
      "metadata": {
        "id": "nYTsoRuIAqQh"
      },
      "execution_count": null,
      "outputs": []
    },
    {
      "cell_type": "code",
      "source": [],
      "metadata": {
        "id": "uUWCKmfvBECY"
      },
      "execution_count": null,
      "outputs": []
    },
    {
      "cell_type": "code",
      "source": [],
      "metadata": {
        "id": "oZZPuEpzBYiV"
      },
      "execution_count": null,
      "outputs": []
    },
    {
      "cell_type": "code",
      "source": [
        "x = df.iloc[:, :-1] #outcome제외하고 모두\n",
        "y = df.iloc[:, -1] # outcome만"
      ],
      "metadata": {
        "id": "v4jSezKw8kHu"
      },
      "execution_count": null,
      "outputs": []
    },
    {
      "cell_type": "code",
      "source": [],
      "metadata": {
        "id": "tcLdd9nKBpDJ"
      },
      "execution_count": 4,
      "outputs": []
    },
    {
      "cell_type": "code",
      "source": [],
      "metadata": {
        "id": "XfJ3NF0aBts2"
      },
      "execution_count": 4,
      "outputs": []
    },
    {
      "cell_type": "markdown",
      "source": [
        "#X값 선정하기\n",
        "- 나이에 따른 발병률 정리\n",
        "- 공복혈당농도와 발병률의 상관관계\n",
        "- 임신횟수가 많을수록 발병률이 높을까?\n",
        "- bmi수치가 높으면 발병률이 높을까?"
      ],
      "metadata": {
        "id": "vMAEOIqW_9BL"
      }
    },
    {
      "cell_type": "code",
      "source": [
        "#나이\n",
        "plt.figure(figsize=(12,6))\n",
        "sns.barplot(x='Age', y='Outcome', data=df)"
      ],
      "metadata": {
        "id": "aDbizylVAVMT"
      },
      "execution_count": 5,
      "outputs": []
    },
    {
      "cell_type": "code",
      "source": [
        "#공복혈당농도\n",
        "plt.figure(figsize=(12,6))\n",
        "plt.hist(x=[df.Glucose[df.Outcome==0], df.Glucose[df.Outcome==1]], bins=30, histtype='barstacked', label=['normal', 'diabetes'])\n",
        "plt.xlabel('Glucose')\n",
        "plt.legend()"
      ],
      "metadata": {
        "id": "dOsILFK2Bg-l"
      },
      "execution_count": 6,
      "outputs": []
    },
    {
      "cell_type": "code",
      "source": [
        "#공복혈당농도2\n",
        "grid = sns.FacetGrid(df, col = 'Outcome')\n",
        "grid.map(plt.hist, 'Glucose', bins=10)\n",
        "plt.show()"
      ],
      "metadata": {
        "id": "DIDkW0PNByQY"
      },
      "execution_count": 7,
      "outputs": []
    },
    {
      "cell_type": "code",
      "source": [
        "X = df[['Age', 'Pregnancies', 'Glucose', 'BMI']] #특성 4가지\n",
        "Y = df.iloc[:, -1] # outcom만"
      ],
      "metadata": {
        "id": "ulpBIf35CEMC"
      },
      "execution_count": null,
      "outputs": []
    },
    {
      "cell_type": "code",
      "source": [
        "model = Sequential()\n",
        "model.add(Dense())\n",
        "model.add(Dense())\n",
        "model.add(Dense())"
      ],
      "metadata": {
        "id": "pvSGaYoCCjz5"
      },
      "execution_count": 8,
      "outputs": []
    },
    {
      "cell_type": "code",
      "source": [
        "model.compile(loss='',optimizer='',metrics=['accuracy'])"
      ],
      "metadata": {
        "id": "psAq46BTBUCq"
      },
      "execution_count": 9,
      "outputs": []
    },
    {
      "cell_type": "code",
      "source": [],
      "metadata": {
        "id": "kIyLk9DoBbvP"
      },
      "execution_count": 9,
      "outputs": []
    },
    {
      "cell_type": "code",
      "source": [
        "print('Accuracy',model.evaluate(X,Y)[1])"
      ],
      "metadata": {
        "id": "84x25S76Bxm8"
      },
      "execution_count": 10,
      "outputs": []
    }
  ]
}