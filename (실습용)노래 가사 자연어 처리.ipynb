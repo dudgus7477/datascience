{
  "nbformat": 4,
  "nbformat_minor": 0,
  "metadata": {
    "colab": {
      "provenance": [],
      "authorship_tag": "ABX9TyNbog07/eN9uZJMhctx5OpO",
      "include_colab_link": true
    },
    "kernelspec": {
      "name": "python3",
      "display_name": "Python 3"
    },
    "language_info": {
      "name": "python"
    }
  },
  "cells": [
    {
      "cell_type": "markdown",
      "metadata": {
        "id": "view-in-github",
        "colab_type": "text"
      },
      "source": [
        "<a href=\"https://colab.research.google.com/github/dudgus7477/datascience/blob/main/(%EC%8B%A4%EC%8A%B5%EC%9A%A9)%EB%85%B8%EB%9E%98%20%EA%B0%80%EC%82%AC%20%EC%9E%90%EC%97%B0%EC%96%B4%20%EC%B2%98%EB%A6%AC.ipynb\" target=\"_parent\"><img src=\"https://colab.research.google.com/assets/colab-badge.svg\" alt=\"Open In Colab\"/></a>"
      ]
    },
    {
      "cell_type": "markdown",
      "source": [
        "#1. 필요한 라이브러리 설치 및 불러오기\n",
        "- 코엔엘파이와 워드클라우드 라이브러리 설치\n",
        "- 판다스, 맵플롯립, 콜렉션즈, 워드클라우드 라이브러리 임포트"
      ],
      "metadata": {
        "id": "-woOYR1Kbasy"
      }
    },
    {
      "cell_type": "code",
      "execution_count": null,
      "metadata": {
        "colab": {
          "base_uri": "https://localhost:8080/"
        },
        "id": "daTznOZtbWIj",
        "outputId": "e823b41a-c8ce-465a-97df-d76d5c92ff16"
      },
      "outputs": [
        {
          "output_type": "stream",
          "name": "stdout",
          "text": [
            "Collecting konlpy\n",
            "  Downloading konlpy-0.6.0-py2.py3-none-any.whl (19.4 MB)\n",
            "\u001b[2K     \u001b[90m━━━━━━━━━━━━━━━━━━━━━━━━━━━━━━━━━━━━━━━━\u001b[0m \u001b[32m19.4/19.4 MB\u001b[0m \u001b[31m52.8 MB/s\u001b[0m eta \u001b[36m0:00:00\u001b[0m\n",
            "\u001b[?25hCollecting JPype1>=0.7.0 (from konlpy)\n",
            "  Downloading JPype1-1.4.1-cp310-cp310-manylinux_2_12_x86_64.manylinux2010_x86_64.whl (465 kB)\n",
            "\u001b[2K     \u001b[90m━━━━━━━━━━━━━━━━━━━━━━━━━━━━━━━━━━━━━━\u001b[0m \u001b[32m465.3/465.3 kB\u001b[0m \u001b[31m51.1 MB/s\u001b[0m eta \u001b[36m0:00:00\u001b[0m\n",
            "\u001b[?25hRequirement already satisfied: lxml>=4.1.0 in /usr/local/lib/python3.10/dist-packages (from konlpy) (4.9.3)\n",
            "Requirement already satisfied: numpy>=1.6 in /usr/local/lib/python3.10/dist-packages (from konlpy) (1.23.5)\n",
            "Requirement already satisfied: packaging in /usr/local/lib/python3.10/dist-packages (from JPype1>=0.7.0->konlpy) (23.1)\n",
            "Installing collected packages: JPype1, konlpy\n",
            "Successfully installed JPype1-1.4.1 konlpy-0.6.0\n",
            "Requirement already satisfied: wordcloud in /usr/local/lib/python3.10/dist-packages (1.9.2)\n",
            "Requirement already satisfied: numpy>=1.6.1 in /usr/local/lib/python3.10/dist-packages (from wordcloud) (1.23.5)\n",
            "Requirement already satisfied: pillow in /usr/local/lib/python3.10/dist-packages (from wordcloud) (9.4.0)\n",
            "Requirement already satisfied: matplotlib in /usr/local/lib/python3.10/dist-packages (from wordcloud) (3.7.1)\n",
            "Requirement already satisfied: contourpy>=1.0.1 in /usr/local/lib/python3.10/dist-packages (from matplotlib->wordcloud) (1.1.0)\n",
            "Requirement already satisfied: cycler>=0.10 in /usr/local/lib/python3.10/dist-packages (from matplotlib->wordcloud) (0.11.0)\n",
            "Requirement already satisfied: fonttools>=4.22.0 in /usr/local/lib/python3.10/dist-packages (from matplotlib->wordcloud) (4.42.0)\n",
            "Requirement already satisfied: kiwisolver>=1.0.1 in /usr/local/lib/python3.10/dist-packages (from matplotlib->wordcloud) (1.4.4)\n",
            "Requirement already satisfied: packaging>=20.0 in /usr/local/lib/python3.10/dist-packages (from matplotlib->wordcloud) (23.1)\n",
            "Requirement already satisfied: pyparsing>=2.3.1 in /usr/local/lib/python3.10/dist-packages (from matplotlib->wordcloud) (3.1.1)\n",
            "Requirement already satisfied: python-dateutil>=2.7 in /usr/local/lib/python3.10/dist-packages (from matplotlib->wordcloud) (2.8.2)\n",
            "Requirement already satisfied: six>=1.5 in /usr/local/lib/python3.10/dist-packages (from python-dateutil>=2.7->matplotlib->wordcloud) (1.16.0)\n"
          ]
        }
      ],
      "source": [
        "!pip install konlpy\n",
        "!pip install wordcloud\n",
        "import pandas as pd\n",
        "import matplotlib.pyplot as plt\n",
        "import collections\n",
        "from wordcloud import WordCloud\n",
        "from konlpy.tag import Okt\n",
        "okt = Okt()"
      ]
    },
    {
      "cell_type": "markdown",
      "source": [
        "#2. 데이터 로드하기\n",
        "- 네이버 영화 리뷰 데이터 불러오기\n",
        "\n",
        "> label : 1이면 긍정, 0이면 부정\n",
        "\n"
      ],
      "metadata": {
        "id": "_-cA96J-cCWC"
      }
    },
    {
      "cell_type": "code",
      "source": [
        "#df = pd.read_table('./')\n",
        "#df.head()"
      ],
      "metadata": {
        "id": "Ck0aW6_QcBa_"
      },
      "execution_count": null,
      "outputs": []
    },
    {
      "cell_type": "markdown",
      "source": [
        "#3. 데이터 전처리\n",
        "- 중복과 결측치 제거\n",
        "\n",
        "> nunique() : 데이터에 고유값들의 수를 출력해주는 함수"
      ],
      "metadata": {
        "id": "f2JHorTcfbap"
      }
    },
    {
      "cell_type": "code",
      "source": [
        "#중복 id를 제외한 총 id의 개수\n",
        "\n",
        "# 비어있는 내용 총 합"
      ],
      "metadata": {
        "id": "LJnDydZnfbET"
      },
      "execution_count": null,
      "outputs": []
    },
    {
      "cell_type": "code",
      "source": [
        "# NULL 값이 존재하는 행 제거 후 확인\n"
      ],
      "metadata": {
        "id": "RR-lkn7ggqlS"
      },
      "execution_count": null,
      "outputs": []
    },
    {
      "cell_type": "code",
      "source": [
        "#한글과 공백 빼고 모두 제거\n"
      ],
      "metadata": {
        "id": "1azaJ14thAV5"
      },
      "execution_count": null,
      "outputs": []
    },
    {
      "cell_type": "markdown",
      "source": [
        "#4. 형태소로 토근화하기"
      ],
      "metadata": {
        "id": "qsplxastiEOT"
      }
    },
    {
      "cell_type": "code",
      "source": [
        "#document에 있는 리뷰 내용 명사, 형용사만 추출하기\n"
      ],
      "metadata": {
        "id": "PP87rjFAiH3N"
      },
      "execution_count": null,
      "outputs": []
    },
    {
      "cell_type": "code",
      "source": [
        "#빈도수 추출\n"
      ],
      "metadata": {
        "id": "K7IFDrAGipxs"
      },
      "execution_count": null,
      "outputs": []
    },
    {
      "cell_type": "markdown",
      "source": [
        "#5. 워드클라우드 생성과 시각화"
      ],
      "metadata": {
        "id": "jA7wvvmOjnmU"
      }
    },
    {
      "cell_type": "code",
      "source": [
        "#글꼴 설치\n",
        "! apt-get install fonts-nanum\n",
        "font_path='/usr/share/fonts/truetype.nanum/NanumBarunGothic.ttf'"
      ],
      "metadata": {
        "colab": {
          "base_uri": "https://localhost:8080/"
        },
        "id": "EoA_rIitjrmF",
        "outputId": "67012373-8342-472e-835b-05b9ce286fda"
      },
      "execution_count": null,
      "outputs": [
        {
          "output_type": "stream",
          "name": "stdout",
          "text": [
            "Reading package lists... Done\n",
            "Building dependency tree... Done\n",
            "Reading state information... Done\n",
            "fonts-nanum is already the newest version (20200506-1).\n",
            "0 upgraded, 0 newly installed, 0 to remove and 16 not upgraded.\n"
          ]
        }
      ]
    },
    {
      "cell_type": "code",
      "source": [
        "#워드 클라우드 설정\n"
      ],
      "metadata": {
        "id": "_5uGkWsMj4rc"
      },
      "execution_count": null,
      "outputs": []
    },
    {
      "cell_type": "code",
      "source": [
        "#워드클라우드 시각화\n"
      ],
      "metadata": {
        "id": "CBXWNltBkCb5"
      },
      "execution_count": null,
      "outputs": []
    }
  ]
}