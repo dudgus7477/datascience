{
  "nbformat": 4,
  "nbformat_minor": 0,
  "metadata": {
    "colab": {
      "provenance": [],
      "authorship_tag": "ABX9TyMH4ui5HfT/hMcSGPYY1iAB",
      "include_colab_link": true
    },
    "kernelspec": {
      "name": "python3",
      "display_name": "Python 3"
    },
    "language_info": {
      "name": "python"
    }
  },
  "cells": [
    {
      "cell_type": "markdown",
      "metadata": {
        "id": "view-in-github",
        "colab_type": "text"
      },
      "source": [
        "<a href=\"https://colab.research.google.com/github/dudgus7477/datascience/blob/main/(9.1%EC%88%98%ED%96%89)(%ED%95%99%EB%B2%88%EC%9D%B4%EB%A6%84)%EC%87%BC%ED%95%91%20%EB%A6%AC%EB%B7%B0%20%EB%B6%84%EC%84%9D.ipynb\" target=\"_parent\"><img src=\"https://colab.research.google.com/assets/colab-badge.svg\" alt=\"Open In Colab\"/></a>"
      ]
    },
    {
      "cell_type": "markdown",
      "source": [
        "# 네이버 쇼핑 리뷰 감성 분석\n",
        "> naver_shopping.txt\n",
        "- 언어: 한국어\n",
        "- 출처: 네이버 쇼핑 (https://shopping.naver.com/)\n",
        "- 수집 기간: 2020.06~2020.07\n",
        "- 데이터 건수: 20만 건\n",
        "\n",
        "- 네이버 쇼핑에서 제품별 후기를 별점과 함께 수집한 것입니다. 데이터는 탭으로 분리되어 있으며, 첫번째 필드에는 별점(1 ~ 5), 두번째 필드에는 텍스트가 위치합니다."
      ],
      "metadata": {
        "id": "NBRIJgLVFlM9"
      }
    },
    {
      "cell_type": "markdown",
      "source": [
        "#1. 필요한 라이브러리 설치"
      ],
      "metadata": {
        "id": "4gYbqaoLFINd"
      }
    },
    {
      "cell_type": "code",
      "execution_count": 1,
      "metadata": {
        "id": "qaqFJMfWE0hn"
      },
      "outputs": [],
      "source": [
        "# Colab에 Mecab 설치\n",
        "!pip install konlpy\n",
        "!pip install mecab-python\n",
        "!bash <(curl -s https://raw.githubusercontent.com/konlpy/konlpy/master/scripts/mecab.sh)"
      ]
    },
    {
      "cell_type": "code",
      "source": [
        "import re\n",
        "import pandas as pd\n",
        "import numpy as np\n",
        "import matplotlib.pyplot as plt\n",
        "import urllib.request\n",
        "from collections import Counter\n",
        "from konlpy.tag import Mecab\n",
        "from sklearn.model_selection import train_test_split\n",
        "from tensorflow.keras.preprocessing.text import Tokenizer\n",
        "from tensorflow.keras.preprocessing.sequence import pad_sequences\n"
      ],
      "metadata": {
        "id": "6jU8VtH2FSxj"
      },
      "execution_count": null,
      "outputs": []
    },
    {
      "cell_type": "markdown",
      "source": [
        "#2. 데이터 로드하기"
      ],
      "metadata": {
        "id": "znYnCi48GHxN"
      }
    },
    {
      "cell_type": "code",
      "source": [
        "df = pd.read_table('./naver_shopping.txt', encoding = 'UTF8')\n",
        "df.head()"
      ],
      "metadata": {
        "colab": {
          "base_uri": "https://localhost:8080/",
          "height": 206
        },
        "id": "MxCHbiIDGI83",
        "outputId": "6337bb6a-f7df-41af-82bc-270b0ce7ca98"
      },
      "execution_count": null,
      "outputs": [
        {
          "output_type": "execute_result",
          "data": {
            "text/plain": [
              "   star                                             review\n",
              "0     5                                            배공빠르고 굿\n",
              "1     2                      택배가 엉망이네용 저희집 밑에층에 말도없이 놔두고가고\n",
              "2     5  아주좋아요 바지 정말 좋아서2개 더 구매했어요 이가격에 대박입니다. 바느질이 조금 ...\n",
              "3     2  선물용으로 빨리 받아서 전달했어야 하는 상품이었는데 머그컵만 와서 당황했습니다. 전...\n",
              "4     5                  민트색상 예뻐요. 옆 손잡이는 거는 용도로도 사용되네요 ㅎㅎ"
            ],
            "text/html": [
              "\n",
              "  <div id=\"df-9d6e5777-2b64-426a-8164-7baf69b33362\" class=\"colab-df-container\">\n",
              "    <div>\n",
              "<style scoped>\n",
              "    .dataframe tbody tr th:only-of-type {\n",
              "        vertical-align: middle;\n",
              "    }\n",
              "\n",
              "    .dataframe tbody tr th {\n",
              "        vertical-align: top;\n",
              "    }\n",
              "\n",
              "    .dataframe thead th {\n",
              "        text-align: right;\n",
              "    }\n",
              "</style>\n",
              "<table border=\"1\" class=\"dataframe\">\n",
              "  <thead>\n",
              "    <tr style=\"text-align: right;\">\n",
              "      <th></th>\n",
              "      <th>star</th>\n",
              "      <th>review</th>\n",
              "    </tr>\n",
              "  </thead>\n",
              "  <tbody>\n",
              "    <tr>\n",
              "      <th>0</th>\n",
              "      <td>5</td>\n",
              "      <td>배공빠르고 굿</td>\n",
              "    </tr>\n",
              "    <tr>\n",
              "      <th>1</th>\n",
              "      <td>2</td>\n",
              "      <td>택배가 엉망이네용 저희집 밑에층에 말도없이 놔두고가고</td>\n",
              "    </tr>\n",
              "    <tr>\n",
              "      <th>2</th>\n",
              "      <td>5</td>\n",
              "      <td>아주좋아요 바지 정말 좋아서2개 더 구매했어요 이가격에 대박입니다. 바느질이 조금 ...</td>\n",
              "    </tr>\n",
              "    <tr>\n",
              "      <th>3</th>\n",
              "      <td>2</td>\n",
              "      <td>선물용으로 빨리 받아서 전달했어야 하는 상품이었는데 머그컵만 와서 당황했습니다. 전...</td>\n",
              "    </tr>\n",
              "    <tr>\n",
              "      <th>4</th>\n",
              "      <td>5</td>\n",
              "      <td>민트색상 예뻐요. 옆 손잡이는 거는 용도로도 사용되네요 ㅎㅎ</td>\n",
              "    </tr>\n",
              "  </tbody>\n",
              "</table>\n",
              "</div>\n",
              "    <div class=\"colab-df-buttons\">\n",
              "\n",
              "  <div class=\"colab-df-container\">\n",
              "    <button class=\"colab-df-convert\" onclick=\"convertToInteractive('df-9d6e5777-2b64-426a-8164-7baf69b33362')\"\n",
              "            title=\"Convert this dataframe to an interactive table.\"\n",
              "            style=\"display:none;\">\n",
              "\n",
              "  <svg xmlns=\"http://www.w3.org/2000/svg\" height=\"24px\" viewBox=\"0 -960 960 960\">\n",
              "    <path d=\"M120-120v-720h720v720H120Zm60-500h600v-160H180v160Zm220 220h160v-160H400v160Zm0 220h160v-160H400v160ZM180-400h160v-160H180v160Zm440 0h160v-160H620v160ZM180-180h160v-160H180v160Zm440 0h160v-160H620v160Z\"/>\n",
              "  </svg>\n",
              "    </button>\n",
              "\n",
              "  <style>\n",
              "    .colab-df-container {\n",
              "      display:flex;\n",
              "      gap: 12px;\n",
              "    }\n",
              "\n",
              "    .colab-df-convert {\n",
              "      background-color: #E8F0FE;\n",
              "      border: none;\n",
              "      border-radius: 50%;\n",
              "      cursor: pointer;\n",
              "      display: none;\n",
              "      fill: #1967D2;\n",
              "      height: 32px;\n",
              "      padding: 0 0 0 0;\n",
              "      width: 32px;\n",
              "    }\n",
              "\n",
              "    .colab-df-convert:hover {\n",
              "      background-color: #E2EBFA;\n",
              "      box-shadow: 0px 1px 2px rgba(60, 64, 67, 0.3), 0px 1px 3px 1px rgba(60, 64, 67, 0.15);\n",
              "      fill: #174EA6;\n",
              "    }\n",
              "\n",
              "    .colab-df-buttons div {\n",
              "      margin-bottom: 4px;\n",
              "    }\n",
              "\n",
              "    [theme=dark] .colab-df-convert {\n",
              "      background-color: #3B4455;\n",
              "      fill: #D2E3FC;\n",
              "    }\n",
              "\n",
              "    [theme=dark] .colab-df-convert:hover {\n",
              "      background-color: #434B5C;\n",
              "      box-shadow: 0px 1px 3px 1px rgba(0, 0, 0, 0.15);\n",
              "      filter: drop-shadow(0px 1px 2px rgba(0, 0, 0, 0.3));\n",
              "      fill: #FFFFFF;\n",
              "    }\n",
              "  </style>\n",
              "\n",
              "    <script>\n",
              "      const buttonEl =\n",
              "        document.querySelector('#df-9d6e5777-2b64-426a-8164-7baf69b33362 button.colab-df-convert');\n",
              "      buttonEl.style.display =\n",
              "        google.colab.kernel.accessAllowed ? 'block' : 'none';\n",
              "\n",
              "      async function convertToInteractive(key) {\n",
              "        const element = document.querySelector('#df-9d6e5777-2b64-426a-8164-7baf69b33362');\n",
              "        const dataTable =\n",
              "          await google.colab.kernel.invokeFunction('convertToInteractive',\n",
              "                                                    [key], {});\n",
              "        if (!dataTable) return;\n",
              "\n",
              "        const docLinkHtml = 'Like what you see? Visit the ' +\n",
              "          '<a target=\"_blank\" href=https://colab.research.google.com/notebooks/data_table.ipynb>data table notebook</a>'\n",
              "          + ' to learn more about interactive tables.';\n",
              "        element.innerHTML = '';\n",
              "        dataTable['output_type'] = 'display_data';\n",
              "        await google.colab.output.renderOutput(dataTable, element);\n",
              "        const docLink = document.createElement('div');\n",
              "        docLink.innerHTML = docLinkHtml;\n",
              "        element.appendChild(docLink);\n",
              "      }\n",
              "    </script>\n",
              "  </div>\n",
              "\n",
              "\n",
              "<div id=\"df-291be4bd-1ffe-40e8-b8d1-4f56d2f77555\">\n",
              "  <button class=\"colab-df-quickchart\" onclick=\"quickchart('df-291be4bd-1ffe-40e8-b8d1-4f56d2f77555')\"\n",
              "            title=\"Suggest charts.\"\n",
              "            style=\"display:none;\">\n",
              "\n",
              "<svg xmlns=\"http://www.w3.org/2000/svg\" height=\"24px\"viewBox=\"0 0 24 24\"\n",
              "     width=\"24px\">\n",
              "    <g>\n",
              "        <path d=\"M19 3H5c-1.1 0-2 .9-2 2v14c0 1.1.9 2 2 2h14c1.1 0 2-.9 2-2V5c0-1.1-.9-2-2-2zM9 17H7v-7h2v7zm4 0h-2V7h2v10zm4 0h-2v-4h2v4z\"/>\n",
              "    </g>\n",
              "</svg>\n",
              "  </button>\n",
              "\n",
              "<style>\n",
              "  .colab-df-quickchart {\n",
              "    background-color: #E8F0FE;\n",
              "    border: none;\n",
              "    border-radius: 50%;\n",
              "    cursor: pointer;\n",
              "    display: none;\n",
              "    fill: #1967D2;\n",
              "    height: 32px;\n",
              "    padding: 0 0 0 0;\n",
              "    width: 32px;\n",
              "  }\n",
              "\n",
              "  .colab-df-quickchart:hover {\n",
              "    background-color: #E2EBFA;\n",
              "    box-shadow: 0px 1px 2px rgba(60, 64, 67, 0.3), 0px 1px 3px 1px rgba(60, 64, 67, 0.15);\n",
              "    fill: #174EA6;\n",
              "  }\n",
              "\n",
              "  [theme=dark] .colab-df-quickchart {\n",
              "    background-color: #3B4455;\n",
              "    fill: #D2E3FC;\n",
              "  }\n",
              "\n",
              "  [theme=dark] .colab-df-quickchart:hover {\n",
              "    background-color: #434B5C;\n",
              "    box-shadow: 0px 1px 3px 1px rgba(0, 0, 0, 0.15);\n",
              "    filter: drop-shadow(0px 1px 2px rgba(0, 0, 0, 0.3));\n",
              "    fill: #FFFFFF;\n",
              "  }\n",
              "</style>\n",
              "\n",
              "  <script>\n",
              "    async function quickchart(key) {\n",
              "      const charts = await google.colab.kernel.invokeFunction(\n",
              "          'suggestCharts', [key], {});\n",
              "    }\n",
              "    (() => {\n",
              "      let quickchartButtonEl =\n",
              "        document.querySelector('#df-291be4bd-1ffe-40e8-b8d1-4f56d2f77555 button');\n",
              "      quickchartButtonEl.style.display =\n",
              "        google.colab.kernel.accessAllowed ? 'block' : 'none';\n",
              "    })();\n",
              "  </script>\n",
              "</div>\n",
              "    </div>\n",
              "  </div>\n"
            ]
          },
          "metadata": {},
          "execution_count": 5
        }
      ]
    },
    {
      "cell_type": "code",
      "source": [
        "#전체 리뷰 개수 구하기 [빈칸1]\n"
      ],
      "metadata": {
        "id": "pcRc6FhrIllM"
      },
      "execution_count": null,
      "outputs": []
    },
    {
      "cell_type": "markdown",
      "source": [
        "#3. 데이터 전처리\n",
        "- 한글과 공백 제외한 나머지 제거"
      ],
      "metadata": {
        "id": "ykrr7qEUI6VI"
      }
    },
    {
      "cell_type": "code",
      "source": [
        "#한글과 공백 제외한 나머지 제거후 데이터 확인 [빈칸2]\n"
      ],
      "metadata": {
        "id": "mVrYA12gSK3s"
      },
      "execution_count": null,
      "outputs": []
    },
    {
      "cell_type": "code",
      "source": [
        "#중복 제외한 리뷰의 개수는? [빈칸3]\n"
      ],
      "metadata": {
        "id": "4GpKZIYdJCh4"
      },
      "execution_count": null,
      "outputs": []
    },
    {
      "cell_type": "code",
      "source": [
        "#중복 제거 [빈칸4]\n"
      ],
      "metadata": {
        "id": "kPDlcaOpJUTe"
      },
      "execution_count": null,
      "outputs": []
    },
    {
      "cell_type": "code",
      "source": [
        "#널 값 유무를 확인해보자(True나 False중 하나 출력되야 함) [빈칸5]"
      ],
      "metadata": {
        "id": "WG8P3bi4Jdfe"
      },
      "execution_count": null,
      "outputs": []
    },
    {
      "cell_type": "markdown",
      "source": [
        "- 별점이 4,5인 리뷰에는 레이블 1(긍정)을 별점이 1,2,3인 리뷰에는 레이블 0(부정)을 저장"
      ],
      "metadata": {
        "id": "XezoYtXCMNPr"
      }
    },
    {
      "cell_type": "code",
      "source": [
        "#실행해서 확인해보자\n",
        "df['label'] = np.select([df.star > 3], [1], default=0)\n",
        "df[:5]"
      ],
      "metadata": {
        "id": "Uf47AHlbMMSw"
      },
      "execution_count": null,
      "outputs": []
    },
    {
      "cell_type": "markdown",
      "source": [
        "- 훈련 데이터의 레이블 분포를 확인해보자."
      ],
      "metadata": {
        "id": "Gf-j5f_uLNfZ"
      }
    },
    {
      "cell_type": "code",
      "source": [
        "#레이블의 비율이 적절한가? 레이블 분포를 'bar' 그래프로 나타내보자! [빈칸6]\n"
      ],
      "metadata": {
        "id": "ASuGCKZNLTDH"
      },
      "execution_count": null,
      "outputs": []
    },
    {
      "cell_type": "markdown",
      "source": [
        "#4. 형태소로 토큰화"
      ],
      "metadata": {
        "id": "ZGhG-5fFNRpo"
      }
    },
    {
      "cell_type": "markdown",
      "source": [
        "- 불용어 처리"
      ],
      "metadata": {
        "id": "V7vMjULhRn4m"
      }
    },
    {
      "cell_type": "code",
      "source": [
        "#불용어 지정하기\n",
        "stopwords = ['도', '는', '다', '의', '가', '이', '은', '한', '에', '하', '고', '을', '를', '인',\n",
        "             '듯', '과', '와', '네', '들', '듯', '지', '임', '게']"
      ],
      "metadata": {
        "id": "fXVhECbiQ9YE"
      },
      "execution_count": null,
      "outputs": []
    },
    {
      "cell_type": "code",
      "source": [
        "# 불용어 제거 처리하기(mecab 사용하세요!)  [빈칸7]\n",
        "mecab = Mecab()\n"
      ],
      "metadata": {
        "id": "7QtTF1gJRNPu"
      },
      "execution_count": null,
      "outputs": []
    },
    {
      "cell_type": "markdown",
      "source": [
        "#5. 리뷰 길이 분포 확인\n",
        "- 긍정 리뷰에는 어떤 단어들이 많이 등장하고, 부정 리뷰에는 어떤 단어들이 등장하는지 빈도수 계산"
      ],
      "metadata": {
        "id": "z3_UzYpqRh09"
      }
    },
    {
      "cell_type": "code",
      "source": [
        "negative_words = np.hstack(df[df.label == 0]['tokenized'].values)\n",
        "positive_words = np.hstack(df[df.label == 1]['tokenized'].values)"
      ],
      "metadata": {
        "id": "IXRE3AZIR47Q"
      },
      "execution_count": null,
      "outputs": []
    },
    {
      "cell_type": "code",
      "source": [
        "#부정 단어 상위 50개 단어 출력 [빈칸8]\n"
      ],
      "metadata": {
        "id": "ccCcquG1R8Tk"
      },
      "execution_count": null,
      "outputs": []
    },
    {
      "cell_type": "code",
      "source": [
        "#긍정 단어 상위 50개 단어 출력 [빈칸9]\n"
      ],
      "metadata": {
        "id": "TrWghsUaSBZ3"
      },
      "execution_count": null,
      "outputs": []
    },
    {
      "cell_type": "markdown",
      "source": [
        "- 길이 분포를 확인"
      ],
      "metadata": {
        "id": "B6fq-uUocxoC"
      }
    },
    {
      "cell_type": "code",
      "source": [
        "#실행해주세요\n",
        "fig,(ax1,ax2) = plt.subplots(1,2,figsize=(10,5))\n",
        "text_len = df[df['label']==1]['tokenized'].map(lambda x: len(x))\n",
        "ax1.hist(text_len, color='red')\n",
        "ax1.set_title('Positive Reviews')\n",
        "ax1.set_xlabel('length of samples')\n",
        "ax1.set_ylabel('number of samples')\n",
        "print('긍정 리뷰의 평균 길이 :', np.mean(text_len))\n",
        "\n",
        "text_len = df[df['label']==0]['tokenized'].map(lambda x: len(x))\n",
        "ax2.hist(text_len, color='blue')\n",
        "ax2.set_title('Negative Reviews')\n",
        "fig.suptitle('Words in texts')\n",
        "ax2.set_xlabel('length of samples')\n",
        "ax2.set_ylabel('number of samples')\n",
        "print('부정 리뷰의 평균 길이 :', np.mean(text_len))\n",
        "plt.show()\n"
      ],
      "metadata": {
        "id": "RFdc9V7Oc42s"
      },
      "execution_count": null,
      "outputs": []
    },
    {
      "cell_type": "markdown",
      "source": [
        "# @ 왜 부정리뷰가 긍정리뷰보다 길게 작성될까?\n",
        "> 이유를 2가지 생각해봅시다.\n",
        "- 1.\n",
        "- 2."
      ],
      "metadata": {
        "id": "fXRBos45cbuI"
      }
    },
    {
      "cell_type": "markdown",
      "source": [
        "#6. 워드클라우드\n",
        "- 긍정적인 키워드와 부정적인 키워드를 워드클라우드로 만들어 비교해보자!"
      ],
      "metadata": {
        "id": "MBKa2dzPWTd5"
      }
    },
    {
      "cell_type": "code",
      "source": [
        "#한글 폰트 설치\n",
        "! apt-get install fonts-nanum\n",
        "font_path='/usr/share/fonts/truetype.nanum/NanumBarunGothic.ttf'"
      ],
      "metadata": {
        "colab": {
          "base_uri": "https://localhost:8080/"
        },
        "id": "3rt4TaF_Wl4L",
        "outputId": "2715b8ec-bcb5-4946-f870-06786e82fd60"
      },
      "execution_count": null,
      "outputs": [
        {
          "output_type": "stream",
          "name": "stdout",
          "text": [
            "Reading package lists... Done\n",
            "Building dependency tree... Done\n",
            "Reading state information... Done\n",
            "The following NEW packages will be installed:\n",
            "  fonts-nanum\n",
            "0 upgraded, 1 newly installed, 0 to remove and 16 not upgraded.\n",
            "Need to get 10.3 MB of archives.\n",
            "After this operation, 34.1 MB of additional disk space will be used.\n",
            "Get:1 http://archive.ubuntu.com/ubuntu jammy/universe amd64 fonts-nanum all 20200506-1 [10.3 MB]\n",
            "Fetched 10.3 MB in 0s (24.8 MB/s)\n",
            "Selecting previously unselected package fonts-nanum.\n",
            "(Reading database ... 120831 files and directories currently installed.)\n",
            "Preparing to unpack .../fonts-nanum_20200506-1_all.deb ...\n",
            "Unpacking fonts-nanum (20200506-1) ...\n",
            "Setting up fonts-nanum (20200506-1) ...\n",
            "Processing triggers for fontconfig (2.13.1-4.2ubuntu5) ...\n"
          ]
        }
      ]
    },
    {
      "cell_type": "code",
      "source": [
        "#부정적인 텍스트 가져오기 [빈칸10]\n"
      ],
      "metadata": {
        "id": "RbNmoGaUW2BL"
      },
      "execution_count": null,
      "outputs": []
    },
    {
      "cell_type": "code",
      "source": [
        "#워드클라우드 시각화\n",
        "plt.figure(figsize=(10,8))\n",
        "plt.imshow(cloud)"
      ],
      "metadata": {
        "id": "SFfL8G2XXBRN"
      },
      "execution_count": null,
      "outputs": []
    },
    {
      "cell_type": "code",
      "source": [
        "#긍정적인 텍스트 가져오기 [빈칸11]\n"
      ],
      "metadata": {
        "id": "yC2t4CHHXjXq"
      },
      "execution_count": null,
      "outputs": []
    },
    {
      "cell_type": "code",
      "source": [
        "#워드클라우드 시각화\n",
        "plt.figure(figsize=(10,8))\n",
        "plt.imshow(cloud)"
      ],
      "metadata": {
        "id": "VbgNu-71XrjG"
      },
      "execution_count": null,
      "outputs": []
    }
  ]
}