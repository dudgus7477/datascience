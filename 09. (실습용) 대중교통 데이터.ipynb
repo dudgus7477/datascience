{
  "cells": [
    {
      "cell_type": "markdown",
      "metadata": {
        "id": "view-in-github",
        "colab_type": "text"
      },
      "source": [
        "<a href=\"https://colab.research.google.com/github/dudgus7477/datascience/blob/main/09.%20(%EC%8B%A4%EC%8A%B5%EC%9A%A9)%20%EB%8C%80%EC%A4%91%EA%B5%90%ED%86%B5%20%EB%8D%B0%EC%9D%B4%ED%84%B0.ipynb\" target=\"_parent\"><img src=\"https://colab.research.google.com/assets/colab-badge.svg\" alt=\"Open In Colab\"/></a>"
      ]
    },
    {
      "cell_type": "markdown",
      "metadata": {
        "id": "W_1NjPBt49HX"
      },
      "source": [
        "# 0. 들어가기 전에, 한글 폰트 설정해주기\n",
        "\n",
        "#### 코랩에서 한글 폰트 설정\n",
        "1) 한글 폰트 코드 실행\n",
        "\n",
        "```\n",
        "!sudo apt-get install -y fonts-nanum\n",
        "!sudo fc-cache -fv\n",
        "!rm ~/.cache/matplotlib -rf\n",
        "```\n",
        "\n",
        "2) 런타임 - 런타임 다시시작\n",
        "\n",
        "3) 글꼴 지정 명령어\n",
        "\n",
        "```\n",
        "plt.rc('font', family='NanumGothic')\n",
        "```\n",
        "\n"
      ]
    },
    {
      "cell_type": "code",
      "execution_count": 2,
      "metadata": {
        "id": "zUc6MMux5Dle"
      },
      "outputs": [],
      "source": [
        "#한글 폰트 실행 후 세션 다시 시작\n"
      ]
    },
    {
      "cell_type": "markdown",
      "metadata": {
        "id": "xvlpmB5a1UNg"
      },
      "source": [
        "#1. 프로젝트 목표 수립\n",
        "\n",
        ">목표 : 버스 이용 현황 분석하기\n",
        "\n",
        "######하위목표1. 승차인원/하차인원이 가장 많은 노선은?\n",
        "\n",
        "######기타 하위목표. 이용률이 가장 높은 시간대는? ,출근시간대에 가장 이용률이 높은 정류장은? , 유무임승차 비율 분석 등"
      ]
    },
    {
      "cell_type": "markdown",
      "metadata": {
        "id": "Or6lYeeM2Yji"
      },
      "source": [
        "#####티머니 홈페이지에서 수도권 대중교통 데이터를 받을 수 있다.\n",
        "\n",
        "> https://www.t-money.co.kr/\n",
        "\n",
        "#####'이용안내-> 대중교통 통계자료-> 최근 월간 교통카드 통계자료 게시글'\n"
      ]
    },
    {
      "cell_type": "code",
      "source": [
        "#csv파일 불러오고 상위 10개 데이터 출력하기\n",
        "import pandas as pd\n",
        "data = pd.read_csv('', encoding = 'cp949')\n",
        "data.head(10)"
      ],
      "metadata": {
        "id": "_R93yyjPugfA"
      },
      "execution_count": 1,
      "outputs": []
    },
    {
      "cell_type": "markdown",
      "metadata": {
        "id": "6lF1_gt77C4a"
      },
      "source": [
        "#2. 데이터 다뤄보기\n"
      ]
    },
    {
      "cell_type": "markdown",
      "metadata": {
        "id": "DXwZEh4R7rWp"
      },
      "source": [
        "##하위목표 1\n",
        "###승차인원과 하차인원이 가장 많은 정류장과 노선은?\n"
      ]
    },
    {
      "cell_type": "code",
      "source": [
        "#내림차순으로 승차승객수 정렬하기\n"
      ],
      "metadata": {
        "id": "Qp9IcHbVvIAc"
      },
      "execution_count": null,
      "outputs": []
    },
    {
      "cell_type": "code",
      "source": [],
      "metadata": {
        "id": "ztpx2AGLvqvf"
      },
      "execution_count": 1,
      "outputs": []
    },
    {
      "cell_type": "code",
      "source": [
        "#내림차순으로 하차승객수 정렬하기\n"
      ],
      "metadata": {
        "id": "S6qwtmXEwIl1"
      },
      "execution_count": null,
      "outputs": []
    },
    {
      "cell_type": "code",
      "source": [],
      "metadata": {
        "id": "DGKt1VU1wJBz"
      },
      "execution_count": 1,
      "outputs": []
    },
    {
      "cell_type": "markdown",
      "source": [
        "## 결론 : 승차인원이 많은 곳은 회기역, 하차인원이 많은 곳은 구로디지털단지역(중)입니다.\n",
        "\n",
        "- 회기역 : 대학생 이용객이 많은 중앙선 대표 환승역, 지하철로 갈아타는 사람이 많음!\n",
        "- 구로디지털단지역(중) : 이 곳도 지하철 탈 수 있는 곳 중 한 곳 서울 4개의 구의 경계선에 있어 많은 사람이 이용하는 곳\n"
      ],
      "metadata": {
        "id": "HWLLEvEawYze"
      }
    },
    {
      "cell_type": "code",
      "source": [
        "#승차 인원이 많은 정류장 top5 그래프로 표현해보기(x값 : 정류장명, y값 : 승차승객수)\n"
      ],
      "metadata": {
        "id": "h79n3jlTz9B8"
      },
      "execution_count": 2,
      "outputs": []
    },
    {
      "cell_type": "markdown",
      "source": [
        "##결론2: 지하철을 이용한 후 버스로 환승하는 사람이 많은 것 같음.\n",
        "##top5 정류장 모두 지하철역 근처임."
      ],
      "metadata": {
        "id": "iPiNnYSb1ZPn"
      }
    },
    {
      "cell_type": "markdown",
      "source": [
        "### 청주 대중교통 이용현황은 다음 사이트에서 제공중!\n",
        "https://tdata.cheongju.go.kr/data/dwnld/page\n"
      ],
      "metadata": {
        "id": "C6IoRjHGxRf0"
      }
    }
  ],
  "metadata": {
    "colab": {
      "provenance": [],
      "authorship_tag": "ABX9TyPwqZXnPiNvDJ8hWGI/Mrgj",
      "include_colab_link": true
    },
    "kernelspec": {
      "display_name": "Python 3",
      "name": "python3"
    },
    "language_info": {
      "name": "python"
    }
  },
  "nbformat": 4,
  "nbformat_minor": 0
}