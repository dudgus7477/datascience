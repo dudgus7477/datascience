{
  "nbformat": 4,
  "nbformat_minor": 0,
  "metadata": {
    "colab": {
      "provenance": [],
      "include_colab_link": true
    },
    "kernelspec": {
      "name": "python3",
      "display_name": "Python 3"
    },
    "language_info": {
      "name": "python"
    }
  },
  "cells": [
    {
      "cell_type": "markdown",
      "metadata": {
        "id": "view-in-github",
        "colab_type": "text"
      },
      "source": [
        "<a href=\"https://colab.research.google.com/github/dudgus7477/datascience/blob/main/20.%20(%EC%8B%A4%EC%8A%B5%EC%9A%A9)%20%EA%B5%AD%EB%A6%BD%EA%B3%B5%EC%9B%90%20%EC%9C%A0%ED%98%95%20%EA%B5%B0%EC%A7%91%ED%99%94.ipynb\" target=\"_parent\"><img src=\"https://colab.research.google.com/assets/colab-badge.svg\" alt=\"Open In Colab\"/></a>"
      ]
    },
    {
      "cell_type": "markdown",
      "source": [
        "# 필요한 모듈 포함시키기\n",
        "\n",
        "\n"
      ],
      "metadata": {
        "id": "kq-cgcydzRQG"
      }
    },
    {
      "cell_type": "code",
      "source": [
        "#한글 폰트\n",
        "!sudo apt-get install -y fonts-nanum\n",
        "!sudo fc-cache -fv\n",
        "!rm ~/.cache/matplotlib -rf"
      ],
      "metadata": {
        "id": "z9pjZ963s1Gx"
      },
      "execution_count": null,
      "outputs": []
    },
    {
      "cell_type": "code",
      "source": [
        "import pandas as pd\n",
        "import matplotlib.pyplot as plt\n",
        "import seaborn as sns"
      ],
      "metadata": {
        "id": "zZbuivqI01xE"
      },
      "execution_count": null,
      "outputs": []
    },
    {
      "cell_type": "markdown",
      "source": [
        "## 데이터 세트 불러오기"
      ],
      "metadata": {
        "id": "IPPzxwXnzbNg"
      }
    },
    {
      "cell_type": "code",
      "source": [
        "data = pd.read_csv('', encoding = 'cp949')\n",
        "data.head()"
      ],
      "metadata": {
        "id": "45YgLdth00c4"
      },
      "execution_count": null,
      "outputs": []
    },
    {
      "cell_type": "code",
      "source": [
        "#k-means 라이브러리 포함시키기\n",
        "\n",
        "from sklearn import preprocessing"
      ],
      "metadata": {
        "id": "0v2BkfQZ1dp8"
      },
      "execution_count": null,
      "outputs": []
    },
    {
      "cell_type": "code",
      "source": [
        "#원본 데이터 그대로 유지하기\n",
        "processed_data = data.copy()"
      ],
      "metadata": {
        "id": "rfQj7Zm7TBYC"
      },
      "execution_count": null,
      "outputs": []
    },
    {
      "cell_type": "code",
      "source": [
        "#정규화\n",
        "scaler = preprocessing.MinMaxScaler()\n",
        "processed_data[['육지면적', '탐방객수']] = scaler.fit_transform(processed_data[['육지면적', '탐방객수']])"
      ],
      "metadata": {
        "id": "WrR7JFk2TEZL"
      },
      "execution_count": null,
      "outputs": []
    },
    {
      "cell_type": "code",
      "source": [
        "plt.figure(figsize = (10, 10))"
      ],
      "metadata": {
        "id": "Jvrp4rRaTHPM"
      },
      "execution_count": null,
      "outputs": []
    },
    {
      "cell_type": "code",
      "source": [
        "#한글 폰트 지정하기\n",
        "plt.rc('font', family='NanumGothic')"
      ],
      "metadata": {
        "id": "H6b2GegStBsl"
      },
      "execution_count": null,
      "outputs": []
    },
    {
      "cell_type": "code",
      "source": [
        "# K 값을 늘려가며 반복 테스트\n",
        "for i in range(1, 7):\n",
        "  # 클러스터 생성\n",
        "\n",
        "\n",
        "  # 2행 3열을 가진 서브플롯 추가 (인덱스 = i)\n",
        "\n",
        "  #간격 조절\n",
        "  plt.tight_layout()\n",
        "  # 서브플롯의 라벨링\n",
        "\n",
        "  plt.xlabel('육지면적')\n",
        "  plt.ylabel('탐방객수')\n",
        "  # 클러스터링 그리기\n",
        "\n",
        "plt.show()"
      ],
      "metadata": {
        "id": "wC8Js9CpTKrq"
      },
      "execution_count": null,
      "outputs": []
    },
    {
      "cell_type": "markdown",
      "source": [
        "#1. 각 군집과 국립공원명 군집"
      ],
      "metadata": {
        "id": "Qi5G66VFN_vF"
      }
    },
    {
      "cell_type": "code",
      "source": [
        "# K = 3으로 클러스터링\n",
        "estimator = KMeans(n_clusters = )\n",
        "\n",
        "# 클러스터링 생성\n",
        "\n",
        "\n",
        "# 제품과 클러스터 id로 데이터에 범례(주석) 달기\n",
        "\n",
        "\n",
        "plt.xlabel('육지면적')\n",
        "plt.ylabel('탐방객수')\n",
        "plt.show()"
      ],
      "metadata": {
        "id": "c0fq6XQ21tio"
      },
      "execution_count": null,
      "outputs": []
    },
    {
      "cell_type": "markdown",
      "source": [
        "##### clu0 : 육지면적은 작지만 탐방객수가 많은 곳\n",
        "##### clu1 : 육지면적은 작고 탐방객수가 적은 곳\n",
        "##### clu2 : 육지면적이 큰 곳"
      ],
      "metadata": {
        "id": "EFH17Oc6UtCc"
      }
    },
    {
      "cell_type": "code",
      "source": [
        "# 클러스터 1로 분류된 데이터를 추출해보자\n"
      ],
      "metadata": {
        "id": "qbBasrE617-Q"
      },
      "execution_count": null,
      "outputs": []
    },
    {
      "cell_type": "markdown",
      "source": [
        "###결론 찾기1. 같은 면적을 가진 산들에 비해 한려해상 국립공원과 북한산의 탐방객 수가 많은 이유가 무엇일까?\n",
        "\n",
        "이유 찾아보기\n",
        "- 1.\n",
        "- 2."
      ],
      "metadata": {
        "id": "Nj9K6o09u0cu"
      }
    }
  ]
}