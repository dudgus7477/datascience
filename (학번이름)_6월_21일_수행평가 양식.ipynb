{
  "nbformat": 4,
  "nbformat_minor": 0,
  "metadata": {
    "colab": {
      "provenance": [],
      "include_colab_link": true
    },
    "kernelspec": {
      "name": "python3",
      "display_name": "Python 3"
    },
    "language_info": {
      "name": "python"
    }
  },
  "cells": [
    {
      "cell_type": "markdown",
      "metadata": {
        "id": "view-in-github",
        "colab_type": "text"
      },
      "source": [
        "<a href=\"https://colab.research.google.com/github/dudgus7477/datascience/blob/main/(%ED%95%99%EB%B2%88%EC%9D%B4%EB%A6%84)_6%EC%9B%94_21%EC%9D%BC_%EC%88%98%ED%96%89%ED%8F%89%EA%B0%80%20%EC%96%91%EC%8B%9D.ipynb\" target=\"_parent\"><img src=\"https://colab.research.google.com/assets/colab-badge.svg\" alt=\"Open In Colab\"/></a>"
      ]
    },
    {
      "cell_type": "markdown",
      "source": [
        "## 최근 기업의 마케팅 활동에는 사회적으로 영향력이 큰 사람들을 뜻하는 인플루언서의 SNS가 많이 활용되고 있다.\n",
        "##기업의 홍보 효과를 극대화 할 수 있는 인플루언서를 찾아보자!\n",
        "> 데이터(sns) : 세계 각국의 인플루언서 정보 및 SNS 게시물 내용 평가 점수에 따른 추천 등급을 정리한 데이터 세트이다.\n"
      ],
      "metadata": {
        "id": "AWO-GLF-vHzS"
      }
    },
    {
      "cell_type": "code",
      "source": [
        "# 한글 폰트 설치\n",
        "!sudo apt-get install -y fonts-nanum\n",
        "!sudo fc-cache -fv\n",
        "!rm ~/.cache/matplotlib -rf"
      ],
      "metadata": {
        "colab": {
          "base_uri": "https://localhost:8080/"
        },
        "id": "T-QQOyIIzlb9",
        "outputId": "0de4e3d5-6630-4b12-d79a-a3b4d0fbea70"
      },
      "execution_count": null,
      "outputs": [
        {
          "output_type": "stream",
          "name": "stdout",
          "text": [
            "Reading package lists... Done\n",
            "Building dependency tree       \n",
            "Reading state information... Done\n",
            "The following NEW packages will be installed:\n",
            "  fonts-nanum\n",
            "0 upgraded, 1 newly installed, 0 to remove and 15 not upgraded.\n",
            "Need to get 9,599 kB of archives.\n",
            "After this operation, 29.6 MB of additional disk space will be used.\n",
            "Get:1 http://archive.ubuntu.com/ubuntu focal/universe amd64 fonts-nanum all 20180306-3 [9,599 kB]\n",
            "Fetched 9,599 kB in 1s (6,973 kB/s)\n",
            "debconf: unable to initialize frontend: Dialog\n",
            "debconf: (No usable dialog-like program is installed, so the dialog based frontend cannot be used. at /usr/share/perl5/Debconf/FrontEnd/Dialog.pm line 76, <> line 1.)\n",
            "debconf: falling back to frontend: Readline\n",
            "debconf: unable to initialize frontend: Readline\n",
            "debconf: (This frontend requires a controlling tty.)\n",
            "debconf: falling back to frontend: Teletype\n",
            "dpkg-preconfigure: unable to re-open stdin: \n",
            "Selecting previously unselected package fonts-nanum.\n",
            "(Reading database ... 123069 files and directories currently installed.)\n",
            "Preparing to unpack .../fonts-nanum_20180306-3_all.deb ...\n",
            "Unpacking fonts-nanum (20180306-3) ...\n",
            "Setting up fonts-nanum (20180306-3) ...\n",
            "Processing triggers for fontconfig (2.13.1-2ubuntu3) ...\n",
            "/usr/share/fonts: caching, new cache contents: 0 fonts, 1 dirs\n",
            "/usr/share/fonts/truetype: caching, new cache contents: 0 fonts, 3 dirs\n",
            "/usr/share/fonts/truetype/humor-sans: caching, new cache contents: 1 fonts, 0 dirs\n",
            "/usr/share/fonts/truetype/liberation: caching, new cache contents: 16 fonts, 0 dirs\n",
            "/usr/share/fonts/truetype/nanum: caching, new cache contents: 10 fonts, 0 dirs\n",
            "/usr/local/share/fonts: caching, new cache contents: 0 fonts, 0 dirs\n",
            "/root/.local/share/fonts: skipping, no such directory\n",
            "/root/.fonts: skipping, no such directory\n",
            "/usr/share/fonts/truetype: skipping, looped directory detected\n",
            "/usr/share/fonts/truetype/humor-sans: skipping, looped directory detected\n",
            "/usr/share/fonts/truetype/liberation: skipping, looped directory detected\n",
            "/usr/share/fonts/truetype/nanum: skipping, looped directory detected\n",
            "/var/cache/fontconfig: cleaning cache directory\n",
            "/root/.cache/fontconfig: not cleaning non-existent cache directory\n",
            "/root/.fontconfig: not cleaning non-existent cache directory\n",
            "fc-cache: succeeded\n"
          ]
        }
      ]
    },
    {
      "cell_type": "markdown",
      "source": [
        "# 필요한 모듈 포함시키기\n",
        "\n",
        "\n"
      ],
      "metadata": {
        "id": "kq-cgcydzRQG"
      }
    },
    {
      "cell_type": "code",
      "source": [
        "import pandas as pd\n",
        "import matplotlib.pyplot as plt\n",
        "import seaborn as sns\n",
        "import matplotlib as mpl"
      ],
      "metadata": {
        "id": "zZbuivqI01xE"
      },
      "execution_count": null,
      "outputs": []
    },
    {
      "cell_type": "markdown",
      "source": [
        "## 데이터 세트 불러오기"
      ],
      "metadata": {
        "id": "IPPzxwXnzbNg"
      }
    },
    {
      "cell_type": "code",
      "source": [],
      "metadata": {
        "id": "45YgLdth00c4"
      },
      "execution_count": null,
      "outputs": []
    },
    {
      "cell_type": "code",
      "source": [
        "#성별 남자 -> 1, 여자 -> 2"
      ],
      "metadata": {
        "id": "urnXx8y5QEui"
      },
      "execution_count": null,
      "outputs": []
    },
    {
      "cell_type": "markdown",
      "source": [
        "# 한글폰트 설정하기"
      ],
      "metadata": {
        "id": "jGU-Eeyd2Y7F"
      }
    },
    {
      "cell_type": "code",
      "source": [
        "#한글 폰트 지정하기\n",
        "plt.rc('font', family='NanumGothic')"
      ],
      "metadata": {
        "id": "QhSY3hQQ2e5d"
      },
      "execution_count": null,
      "outputs": []
    },
    {
      "cell_type": "markdown",
      "source": [
        "# 데이터 특징들 간의 상관 관계를 처리하고 data_f에 저장하기\n"
      ],
      "metadata": {
        "id": "oKVQ3R9k1ALR"
      }
    },
    {
      "cell_type": "code",
      "source": [],
      "metadata": {
        "id": "0v2BkfQZ1dp8"
      },
      "execution_count": null,
      "outputs": []
    },
    {
      "cell_type": "markdown",
      "source": [
        "## 출력될 그래프의 크기 지정하기\n"
      ],
      "metadata": {
        "id": "RWKt4T_b1fyy"
      }
    },
    {
      "cell_type": "code",
      "source": [
        "plt.figure(figsize=(10,10))"
      ],
      "metadata": {
        "id": "3nanf7Yp1lB1",
        "colab": {
          "base_uri": "https://localhost:8080/",
          "height": 53
        },
        "outputId": "5e73299c-1820-450a-dd73-dabae5a4a3aa"
      },
      "execution_count": null,
      "outputs": [
        {
          "output_type": "execute_result",
          "data": {
            "text/plain": [
              "<Figure size 1000x1000 with 0 Axes>"
            ]
          },
          "metadata": {},
          "execution_count": 19
        },
        {
          "output_type": "display_data",
          "data": {
            "text/plain": [
              "<Figure size 1000x1000 with 0 Axes>"
            ]
          },
          "metadata": {}
        }
      ]
    },
    {
      "cell_type": "markdown",
      "source": [
        "#히트맵\n",
        "> 두 변수간의 상관관계를 컬러로 변환시켜 열 분포 형태로 시각적인 분석을 가능하게 함"
      ],
      "metadata": {
        "id": "Qi5G66VFN_vF"
      }
    },
    {
      "cell_type": "markdown",
      "source": [
        "# 데이터 특징들 간의 피어슨 상관관계를 그래프로 보여주는 코드(히트맵) 입력하기\n",
        "\n",
        "![image.png](data:image/png;base64,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)"
      ],
      "metadata": {
        "id": "G4kx-fnR1lo-"
      }
    },
    {
      "cell_type": "code",
      "source": [],
      "metadata": {
        "id": "c0fq6XQ21tio"
      },
      "execution_count": null,
      "outputs": []
    },
    {
      "cell_type": "markdown",
      "source": [
        ">\n",
        "###### 히트맵의 상관도를 보고 추천등급을 분류하기 위해 필요한 데이터 속성과 불필요한 데이터 속성을 구분해보자!"
      ],
      "metadata": {
        "id": "VzqIeGgkOuoq"
      }
    },
    {
      "cell_type": "markdown",
      "source": [
        "# 3가지 데이터로 추천등급을 분류할 수 있는지 확인 가능한 그래프를 출력하는 코드\n",
        "> 상관도가 높은 특징(3개) :"
      ],
      "metadata": {
        "id": "_5_eR8AC16dF"
      }
    },
    {
      "cell_type": "code",
      "source": [
        "#상관 관계 그래프 그리기\n"
      ],
      "metadata": {
        "id": "qbBasrE617-Q"
      },
      "execution_count": null,
      "outputs": []
    },
    {
      "cell_type": "markdown",
      "source": [
        "#예측에 필요한 모듈 포함 시키기"
      ],
      "metadata": {
        "id": "BlHjP3o0Q7iz"
      }
    },
    {
      "cell_type": "code",
      "source": [],
      "metadata": {
        "id": "fQFolX3SRAPr"
      },
      "execution_count": null,
      "outputs": []
    },
    {
      "cell_type": "markdown",
      "source": [
        "##데이터 불러오기"
      ],
      "metadata": {
        "id": "SJWzESPORfkq"
      }
    },
    {
      "cell_type": "code",
      "source": [],
      "metadata": {
        "id": "f-3Ei9bbRiPx"
      },
      "execution_count": null,
      "outputs": []
    },
    {
      "cell_type": "markdown",
      "source": [
        "훈련 데이터와 테스트 데이터를 저장"
      ],
      "metadata": {
        "id": "fHGpCbvgRktc"
      }
    },
    {
      "cell_type": "code",
      "source": [],
      "metadata": {
        "id": "EKH9QYkoRpA5"
      },
      "execution_count": null,
      "outputs": []
    },
    {
      "cell_type": "markdown",
      "source": [
        "학습 모델 선언 및 학습"
      ],
      "metadata": {
        "id": "f0v3arw0RtBc"
      }
    },
    {
      "cell_type": "code",
      "source": [],
      "metadata": {
        "id": "4wm3B4utRsCU"
      },
      "execution_count": null,
      "outputs": []
    },
    {
      "cell_type": "markdown",
      "source": [
        "#학습된 모델로 테스트 데이터 예측"
      ],
      "metadata": {
        "id": "b0hDnH1jR0UT"
      }
    },
    {
      "cell_type": "code",
      "source": [],
      "metadata": {
        "id": "gwyyVfZORxxo"
      },
      "execution_count": null,
      "outputs": []
    },
    {
      "cell_type": "code",
      "source": [
        "#정확도 측정하기\n"
      ],
      "metadata": {
        "id": "ZcaKyHlXyzQC"
      },
      "execution_count": null,
      "outputs": []
    },
    {
      "cell_type": "markdown",
      "source": [
        "새로운 데이터로 예측해보기 특성1(6), 특성2(185000), 특성3(160000)"
      ],
      "metadata": {
        "id": "89xYriilR4vx"
      }
    },
    {
      "cell_type": "code",
      "source": [],
      "metadata": {
        "id": "acIXijJ2R8Ki"
      },
      "execution_count": null,
      "outputs": []
    }
  ]
}