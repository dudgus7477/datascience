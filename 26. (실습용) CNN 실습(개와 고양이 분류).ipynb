{
  "nbformat": 4,
  "nbformat_minor": 0,
  "metadata": {
    "colab": {
      "provenance": [],
      "collapsed_sections": [
        "66D4nc34Dqrs",
        "nQVEAIhb84wS",
        "47MSAvUw-GA8"
      ],
      "gpuType": "T4",
      "include_colab_link": true
    },
    "kernelspec": {
      "name": "python3",
      "display_name": "Python 3"
    },
    "language_info": {
      "name": "python"
    },
    "accelerator": "GPU"
  },
  "cells": [
    {
      "cell_type": "markdown",
      "metadata": {
        "id": "view-in-github",
        "colab_type": "text"
      },
      "source": [
        "<a href=\"https://colab.research.google.com/github/dudgus7477/datascience/blob/main/26.%20(%EC%8B%A4%EC%8A%B5%EC%9A%A9)%20CNN%20%EC%8B%A4%EC%8A%B5(%EA%B0%9C%EC%99%80%20%EA%B3%A0%EC%96%91%EC%9D%B4%20%EB%B6%84%EB%A5%98).ipynb\" target=\"_parent\"><img src=\"https://colab.research.google.com/assets/colab-badge.svg\" alt=\"Open In Colab\"/></a>"
      ]
    },
    {
      "cell_type": "markdown",
      "source": [
        "## 런타임 유형 변경 필수: GPU 사용"
      ],
      "metadata": {
        "id": "-6DTZC1lEjUV"
      }
    },
    {
      "cell_type": "markdown",
      "source": [
        "### 데이터 로드\n",
        "- 공유(링크가 있는 모든 사용자-편집자)링크 생성"
      ],
      "metadata": {
        "id": "66D4nc34Dqrs"
      }
    },
    {
      "cell_type": "markdown",
      "source": [
        "![image.png](data:image/png;base64,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)"
      ],
      "metadata": {
        "id": "p5KiqBOcDawh"
      }
    },
    {
      "cell_type": "code",
      "source": [
        "# 개와 고양 데이터 출처: https://www.kaggle.com/datasets/tongpython/cat-and-dog\n",
        "# !gdown https://drive.google.com/uc?id=<문서id>\n",
        "\n",
        "!gdown https://drive.google.com/uc?id="
      ],
      "metadata": {
        "id": "XA60RgfmDqrs"
      },
      "execution_count": 1,
      "outputs": []
    },
    {
      "cell_type": "code",
      "source": [
        "# .zip파일 압축 해제\n",
        "!unzip *.zip && rm *.zip"
      ],
      "metadata": {
        "id": "3ZRjpKHsDqrt"
      },
      "execution_count": 2,
      "outputs": []
    },
    {
      "cell_type": "code",
      "source": [
        "from tensorflow.keras.utils import load_img, img_to_array\n",
        "import matplotlib.pyplot as plt\n",
        "\n",
        "img = load_img('',\n",
        "               target_size=(100,100))\n",
        "plt.imshow(img)\n",
        "plt.show()"
      ],
      "metadata": {
        "id": "AHT6SE_wtchP"
      },
      "execution_count": 3,
      "outputs": []
    },
    {
      "cell_type": "code",
      "source": [
        "#이미지 데이터 배열로 변환\n",
        "processed_img = img_to_array(img)\n",
        "print(processed_img)\n",
        "print(processed_img.shape)"
      ],
      "metadata": {
        "id": "WOFlKL1qt9Mn"
      },
      "execution_count": 4,
      "outputs": []
    },
    {
      "cell_type": "code",
      "source": [
        "img = load_img('',\n",
        "               target_size=(100,100), color_mode='grayscale')\n",
        "plt.imshow(img) # 흑백 이미지를 보기 편하도록 보정\n",
        "plt.imshow(img, cmap='gray') # 흑백으로 출력\n",
        "plt.show()\n",
        "print(img_to_array(img).shape)\n",
        "print(img_to_array(img))"
      ],
      "metadata": {
        "id": "b_eRskmdg345"
      },
      "execution_count": 5,
      "outputs": []
    },
    {
      "cell_type": "code",
      "source": [
        "import sys\n",
        "import os\n",
        "\n",
        "train_path = '/content/training_set/training_set/'\n",
        "class_name = ['cats', 'dogs']\n",
        "\n",
        "# .jpg 파일을 찾아서 리스트로 만드는 함수\n",
        "def fileList(dir, format='.jpg'):\n",
        "    filelist = []\n",
        "    for root, dirs, files in os.walk(dir, topdown=False):\n",
        "        for name in files:\n",
        "            if name.endswith(format):\n",
        "                fullname = os.path.join(root, name)\n",
        "                filelist.append(fullname)\n",
        "        return filelist"
      ],
      "metadata": {
        "id": "v9xwuKoihB0G"
      },
      "execution_count": null,
      "outputs": []
    },
    {
      "cell_type": "code",
      "source": [
        "import numpy as np\n",
        "num_img = 0\n",
        "for name in class_name:\n",
        "    my_file_list = fileList(train_path+name)\n",
        "    num_img = num_img + len(my_file_list)\n",
        "    print(f'{name}의 이미지 수는 {len(my_file_list)}')\n",
        "print(f'총 이미지 수는 {num_img}입니다.')"
      ],
      "metadata": {
        "id": "F9o9L6AhhFiO"
      },
      "execution_count": 6,
      "outputs": []
    },
    {
      "cell_type": "markdown",
      "source": [
        "### CNN 미적용"
      ],
      "metadata": {
        "id": "nQVEAIhb84wS"
      }
    },
    {
      "cell_type": "code",
      "source": [
        "# 각 폴더의 개별 이미지 파일을 행렬로 변환하고, 모두 합쳐 하나의 행렬 생성\n",
        "import numpy as np\n",
        "\n",
        "arr_list = []\n",
        "\n",
        "for name in class_name:\n",
        "    my_file_list = fileList(train_path + name)\n",
        "    for file_name in my_file_list:\n",
        "        img = load_img(file_name, target_size=(100, 100), color_mode='grayscale')\n",
        "        img_arr = img_to_array(img).astype(int)\n",
        "        arr_list.append(img_arr)\n",
        "\n",
        "arr = np.array(arr_list)  # 최종 변환 (shape: (n, 100, 100, 1))\n",
        "print(arr.shape)"
      ],
      "metadata": {
        "id": "SFqx-K5H1KfE"
      },
      "execution_count": 7,
      "outputs": []
    },
    {
      "cell_type": "code",
      "source": [
        "arr = arr.reshape(-1,10000)\n",
        "print(arr.shape)\n",
        "print(arr)"
      ],
      "metadata": {
        "id": "ROKefEOasQmN"
      },
      "execution_count": 8,
      "outputs": []
    },
    {
      "cell_type": "code",
      "source": [
        "#이미지로 확인\n",
        "arr_img = img_to_array(arr[567].reshape(100,100,1))\n",
        "plt.imshow(arr_img)\n",
        "plt.imshow(arr_img, cmap='gray')\n",
        "plt.show()"
      ],
      "metadata": {
        "id": "m5Bx2N3Y52pc"
      },
      "execution_count": 9,
      "outputs": []
    },
    {
      "cell_type": "code",
      "source": [
        "from sklearn.model_selection import train_test_split\n",
        "\n",
        "train_scaled = arr / 255\n",
        "train_target = np.array([0]* + [1]* )"
      ],
      "metadata": {
        "id": "dYrpyVQEHSQS"
      },
      "execution_count": null,
      "outputs": []
    },
    {
      "cell_type": "code",
      "source": [
        "train_scaled, val_scaled, train_target, val_target = train_test_split(train_scaled,train_target,\n",
        "                                                                      shuffle=True, stratify=train_target,\n",
        "                                                                      test_size=0.3, random_state=34)\n",
        "\n",
        "#print(train_scaled.shape, val_scaled.shape)\n",
        "#print(train_target.shape, val_target.shape)"
      ],
      "metadata": {
        "id": "sWYdQlBYHrNY"
      },
      "execution_count": 2,
      "outputs": []
    },
    {
      "cell_type": "code",
      "source": [
        "# CNN 미적용 model\n",
        "\n",
        "from tensorflow.keras.models import Sequential\n",
        "from tensorflow.keras.layers import Dense\n",
        "\n",
        "model=Sequential()\n",
        "model.add(Dense(2048,input_dim= ,activation='relu'))\n",
        "model.add(Dense(2048,activation='relu'))\n",
        "model.add(Dense(2048,activation='relu'))\n",
        "model.add(Dense(2048,activation='relu'))\n",
        "model.add(Dense(2048,activation='relu'))\n",
        "model.add(Dense(2048,activation='relu'))\n",
        "model.add(Dense(1024,activation='relu'))\n",
        "model.add(Dense(512,activation='relu'))\n",
        "model.add(Dense( ,activation='softmax'))\n",
        "\n",
        "model.compile(optimizer='adam',loss='sparse_categorical_crossentropy',metrics=['accuracy'])"
      ],
      "metadata": {
        "id": "vKr1Se-SkmFQ"
      },
      "execution_count": null,
      "outputs": []
    },
    {
      "cell_type": "code",
      "source": [
        "# 런타임 유형을 GPU로 변경하고 실행\n",
        "# CNN 미적용 학습\n",
        "train=model.fit(train_scaled,train_target,\n",
        "                epochs=10,batch_size=10,verbose=1,\n",
        "                validation_data=(val_scaled,val_target))"
      ],
      "metadata": {
        "id": "gZ1tKbeCiLBU"
      },
      "execution_count": 3,
      "outputs": []
    },
    {
      "cell_type": "code",
      "source": [
        "#plt.plot(train.history['loss'])\n",
        "#plt.plot(train.history['val_loss'])\n",
        "#plt.xlabel('epoch')\n",
        "#plt.ylabel('loss')\n",
        "#plt.legend(['train','val'])\n",
        "#plt.show()"
      ],
      "metadata": {
        "id": "zSRlq43k_ZUQ"
      },
      "execution_count": 4,
      "outputs": []
    },
    {
      "cell_type": "code",
      "source": [
        "# 새로운 포도 이미지로 맛 예측하기\n",
        "test_path = ''\n",
        "class_name = ['cats', 'dogs']\n",
        "\n",
        "test_num_img = 0\n",
        "\n",
        "for name in class_name:\n",
        "    my_file_list = fileList(test_path + name)\n",
        "    test_num_img = test_num_img + len(my_file_list)\n",
        "    print(f'{name}의 이미지 수는 {len(my_file_list)}입니다.')\n",
        "print(f'총 이미지 수는 {test_num_img}입니다.')"
      ],
      "metadata": {
        "id": "80VFWOab_ZUc"
      },
      "execution_count": 5,
      "outputs": []
    },
    {
      "cell_type": "code",
      "source": [
        "#폴더에 있는 테스트 데이터도 리스트로 저장하기\n",
        "test_arr_list = []\n",
        "\n",
        "for name in class_name:\n",
        "    my_file_list = fileList(test_path + name)\n",
        "    for file_name in my_file_list:\n",
        "        img = load_img(file_name, target_size=(100,100), color_mode='grayscale')\n",
        "        img_arr = img_to_array(img)\n",
        "        test_arr_list.append(img_arr)\n",
        "\n",
        "test_arr = np.array(test_arr_list).astype(int)\n",
        "print(test_arr.shape)"
      ],
      "metadata": {
        "id": "afc3x8GO4MjX"
      },
      "execution_count": 6,
      "outputs": []
    },
    {
      "cell_type": "code",
      "source": [
        "# 리스트 형태 바꾸기\n",
        "test_arr = test_arr.reshape(-1,10000)\n",
        "print(test_arr.shape)\n",
        "print(test_arr)"
      ],
      "metadata": {
        "id": "5sel3N22Biaf"
      },
      "execution_count": 7,
      "outputs": []
    },
    {
      "cell_type": "code",
      "source": [
        "import random as rn\n",
        "\n",
        "test_arr_scaled = test_arr / 255.\n",
        "tastes = ['cats', 'dogs']\n",
        "\n",
        "for i in range(10):\n",
        "    index = rn.randint(0, len(test_arr))\n",
        "    preds_last = model.predict(test_arr_scaled[index:index+1])\n",
        "    print(f'{index}번째의 예측 인덱스는 {np.argmax(preds_last)}입니다.')\n",
        "    print(f'{index}번째는 {tastes[np.argmax(preds_last)]}입니다.\\n')"
      ],
      "metadata": {
        "id": "ckEOMXnS_ZUd"
      },
      "execution_count": 9,
      "outputs": []
    },
    {
      "cell_type": "markdown",
      "source": [
        "### CNN 적용"
      ],
      "metadata": {
        "id": "47MSAvUw-GA8"
      }
    },
    {
      "cell_type": "code",
      "source": [
        "# 각 폴더의 개별 이미지 파일을 행렬로 변환하고, 모두 합쳐 하나의 행렬 생성\n",
        "import numpy as np\n",
        "from tensorflow.keras.preprocessing.image import load_img, img_to_array\n",
        "\n",
        "arr_list = []\n",
        "\n",
        "for name in class_name:\n",
        "    my_file_list = fileList(train_path + name)\n",
        "    for file_name in my_file_list:\n",
        "        img = load_img(file_name, target_size=(100, 100), color_mode='grayscale')\n",
        "        img_arr = img_to_array(img).astype(int)\n",
        "        arr_list.append(img_arr)\n",
        "\n",
        "arr = np.array(arr_list)  # 최종 변환 (shape: (n, 100, 100, 1))\n",
        "print(arr.shape)"
      ],
      "metadata": {
        "id": "mNVu81tpRV65"
      },
      "execution_count": 10,
      "outputs": []
    },
    {
      "cell_type": "code",
      "source": [
        "from tensorflow.keras.utils import array_to_img\n",
        "\n",
        "arr_img = array_to_img(arr[567])\n",
        "plt.imshow(arr_img)\n",
        "plt.imshow(arr_img, cmap='gray')\n",
        "plt.show()"
      ],
      "metadata": {
        "id": "JOyFDJsgCt5j"
      },
      "execution_count": 11,
      "outputs": []
    },
    {
      "cell_type": "code",
      "source": [
        "from sklearn.model_selection import train_test_split\n",
        "\n",
        "train_scaled = arr / 255\n",
        "train_target = np.array([0]*4000 + [1]*4005)"
      ],
      "metadata": {
        "id": "K8c1I0Y3Ct5x"
      },
      "execution_count": null,
      "outputs": []
    },
    {
      "cell_type": "code",
      "source": [
        "train_scaled, val_scaled, train_target, val_target = train_test_split(train_scaled,train_target,\n",
        "                                                                      shuffle=True, stratify=train_target,\n",
        "                                                                      test_size=0.3, random_state=34)\n",
        "\n",
        "print(train_scaled.shape, val_scaled.shape)\n",
        "print(train_target.shape, val_target.shape)"
      ],
      "metadata": {
        "id": "ySib-nslCt5x"
      },
      "execution_count": 12,
      "outputs": []
    },
    {
      "cell_type": "code",
      "source": [
        "# CNN 적용\n",
        "\n",
        "from tensorflow.keras.models import Sequential\n",
        "from tensorflow.keras.layers import Dense, Dropout, Flatten, Conv2D, MaxPooling2D\n",
        "\n",
        "model_CNN = Sequential()\n",
        "model_CNN.add( (filters=32, kernel_size=(3,3),\n",
        "                              activation='relu', padding='same',\n",
        "                              input_shape=(100,100,1)))\n",
        "model_CNN.add( (pool_size=(2,2)))\n",
        "model_CNN.add( (filters=64, kernel_size=(3,3),\n",
        "                              activation='relu', padding='same'))\n",
        "model_CNN.add( (pool_size=(2,2)))\n",
        "model_CNN.add( ())\n",
        "model_CNN.add( (100, activation='relu'))\n",
        "model_CNN.add( (0.2))\n",
        "model_CNN.add( (6, activation='softmax'))\n",
        "\n",
        "model_CNN.compile(optimizer='adam',loss='sparse_categorical_crossentropy',\n",
        "              metrics=['accuracy'])"
      ],
      "metadata": {
        "id": "wGIkrkSUKlS1"
      },
      "execution_count": 1,
      "outputs": []
    },
    {
      "cell_type": "code",
      "source": [
        "# 런타임 유형을 GPU로 변경하고 실행\n",
        "# CNN 적용 학습\n",
        "train=model_CNN.fit(train_scaled,train_target,\n",
        "                epochs=10,batch_size=10,verbose=1,\n",
        "                validation_data=(val_scaled,val_target))"
      ],
      "metadata": {
        "id": "fz11YeFUvw9h"
      },
      "execution_count": 2,
      "outputs": []
    },
    {
      "cell_type": "code",
      "source": [
        "plt.plot(train.history['loss'])\n",
        "plt.plot(train.history['val_loss'])\n",
        "plt.xlabel('epoch')\n",
        "plt.ylabel('loss')\n",
        "plt.legend(['train','val'])\n",
        "plt.show()"
      ],
      "metadata": {
        "id": "jJapxuEchFZc"
      },
      "execution_count": 3,
      "outputs": []
    },
    {
      "cell_type": "code",
      "source": [
        "print(\"\\n Test Accuracy: %.4f\" % (model_CNN.evaluate(val_scaled, val_target)[1]))"
      ],
      "metadata": {
        "id": "9_0CKFgSixHz"
      },
      "execution_count": null,
      "outputs": []
    },
    {
      "cell_type": "code",
      "source": [
        "# 새로운 이미지 예측하기\n",
        "test_path = ''\n",
        "class_name = ['cats', 'dogs']\n",
        "\n",
        "test_num_img = 0\n",
        "\n",
        "for name in class_name:\n",
        "    my_file_list = fileList(test_path + name)\n",
        "    test_num_img = test_num_img + len(my_file_list)\n",
        "    print(f'{name}의 이미지 수는 {len(my_file_list)}입니다.')\n",
        "print(f'총 이미지 수는 {test_num_img}입니다.')"
      ],
      "metadata": {
        "id": "zVarwwFZtL5N"
      },
      "execution_count": 4,
      "outputs": []
    },
    {
      "cell_type": "code",
      "source": [
        "test_arr_list = []\n",
        "\n",
        "for name in class_name:\n",
        "    my_file_list = fileList(test_path + name)\n",
        "    for file_name in my_file_list:\n",
        "        img = load_img(file_name, target_size=(100,100), color_mode='grayscale')\n",
        "        img_arr = img_to_array(img)\n",
        "        test_arr_list.append(img_arr)\n",
        "\n",
        "test_arr = np.array(test_arr_list).astype(int)\n",
        "print(test_arr.shape)\n"
      ],
      "metadata": {
        "id": "-VPJ-iutSEZx"
      },
      "execution_count": 5,
      "outputs": []
    },
    {
      "cell_type": "code",
      "source": [
        "import random as rn\n",
        "\n",
        "test_arr_scaled = test_arr / 255.\n",
        "tastes = ['cats', 'dogs']\n",
        "\n",
        "for i in range(10):\n",
        "    index = rn.randint(0, len(test_arr))\n",
        "    preds_last = model_CNN.predict(test_arr_scaled[index:index+1])\n",
        "    print(f'{index}번째의 예측 인덱스는 {np.argmax(preds_last)}입니다.')\n",
        "    print(f'{index}번째는 {tastes[np.argmax(preds_last)]}입니다.\\n')"
      ],
      "metadata": {
        "id": "ZTRbjOWnvxG2"
      },
      "execution_count": 6,
      "outputs": []
    },
    {
      "cell_type": "code",
      "source": [
        "#체크해보기\n",
        "from tensorflow.keras.utils import array_to_img\n",
        "\n",
        "arr_img = array_to_img(arr[])\n",
        "plt.imshow(arr_img)\n",
        "plt.imshow(arr_img, cmap='gray')\n",
        "plt.show()"
      ],
      "metadata": {
        "id": "K3NhgiosSS3R"
      },
      "execution_count": 7,
      "outputs": []
    }
  ]
}